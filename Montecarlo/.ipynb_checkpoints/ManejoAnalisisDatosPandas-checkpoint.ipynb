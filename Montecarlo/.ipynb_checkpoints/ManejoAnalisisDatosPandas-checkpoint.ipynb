{
 "cells": [
  {
   "cell_type": "markdown",
   "metadata": {},
   "source": [
    "# Aplicando Python para análisis de precios: descarga, manejo y análisis de datos"
   ]
  },
  {
   "cell_type": "markdown",
   "metadata": {},
   "source": [
    "<img style=\"float: right; margin: 0px 0px 15px 15px;\" src=\"https://upload.wikimedia.org/wikipedia/commons/0/0a/Python.svg\" width=\"300px\" height=\"100px\" />\n",
    "\n",
    "> Veremos un caso de aplicación de simulación montecarlo en la toma de decisiones. Para lograr este objetivo, primero veremos como manipular datos con *pandas*, tanto desde un archivo local de excel como remotamente desde Yahoo Finance.\n",
    "\n",
    "> Python Data Analysis Library: pandas es una librería de código abierto, fácil de usar y que provee alto rendimiento en structuras de datos y herramientas de análisis de datos para el lenguaje de programación Python.\n",
    "\n",
    "**Referencias:**\n",
    "- http://pandas.pydata.org/\n",
    "- http://www.learndatasci.com/python-finance-part-yahoo-finance-api-pandas-matplotlib/\n",
    "- https://www.datacamp.com/community/tutorials/python-excel-tutorial"
   ]
  },
  {
   "cell_type": "markdown",
   "metadata": {},
   "source": [
    "## 0. Motivación\n",
    "\n",
    "<img style=\"float: right; margin: 0px 0px 15px 15px;\" src=\"https://upload.wikimedia.org/wikipedia/commons/d/d7/Philippine-stock-market-board.jpg\" width=\"400px\" height=\"125px\" />\n",
    "\n",
    "Hace una década, los instrumentos financieros estaban en la cúspide de la popularidad. Las instituciones financieras de todo el mundo estaban negociando miles de millones de dólares de estos instrumentos a diario, y los analistas cuantitativos estaban modelándolos utilizando el cálculo estocástico y el poderoso `C++`.\n",
    "\n",
    "Sin embargo, el avance en los últimos años ha sido impresionante y las cosas han cambiado. Por una parte, la [crisis financiera del 2008](https://es.wikipedia.org/wiki/Crisis_financiera_de_2008) fue producida por los instrumentos financieros llamados *derivados*. Por otra parte, los volúmenes transaccionales han bajado y la demanda de modelado con `C++` se ha marchitado con ellos. Además, un nuevo jugador entró en la competencia... `¡Python!`\n",
    "\n",
    "`Python` ha estado ganando muchos seguidores en la industria financiera en los últimos años y con razón. No en vano, junto a `R` son los lenguajes de programación más utilizados en cuanto a análisis financiero."
   ]
  },
  {
   "cell_type": "markdown",
   "metadata": {},
   "source": [
    "## 1. Descarga de datos de Yahoo! Finance\n",
    "Para esto utilizaremos el paquete *pandas_datareader*.\n",
    "\n",
    "**Nota**: Usualmente, las distribuciones de Python no cuentan, por defecto, con el paquete *pandas_datareader*. Por lo que será necesario instalarlo aparte:\n",
    "- buscar en inicio \"Anaconda prompt\" y ejecutarlo como administrador;\n",
    "- el siguiente comando instala el paquete en Anaconda: *conda install pandas-datareader*;\n",
    "- una vez finalice la instalación correr el comando: *conda list*, y buscar que sí se haya instalado pandas-datareader"
   ]
  },
  {
   "cell_type": "code",
   "execution_count": 1,
   "metadata": {},
   "outputs": [],
   "source": [
    "#!conda install pandas-datareader\n",
    "#!pip install ..."
   ]
  },
  {
   "cell_type": "code",
   "execution_count": 2,
   "metadata": {},
   "outputs": [],
   "source": [
    "import pandas as pd\n",
    "import pandas_datareader.data as web"
   ]
  },
  {
   "cell_type": "markdown",
   "metadata": {},
   "source": [
    "Primero importaremos datos desde un archivo con extensión `.csv`"
   ]
  },
  {
   "cell_type": "code",
   "execution_count": 17,
   "metadata": {},
   "outputs": [
    {
     "data": {
      "text/html": [
       "<div>\n",
       "<style scoped>\n",
       "    .dataframe tbody tr th:only-of-type {\n",
       "        vertical-align: middle;\n",
       "    }\n",
       "\n",
       "    .dataframe tbody tr th {\n",
       "        vertical-align: top;\n",
       "    }\n",
       "\n",
       "    .dataframe thead th {\n",
       "        text-align: right;\n",
       "    }\n",
       "</style>\n",
       "<table border=\"1\" class=\"dataframe\">\n",
       "  <thead>\n",
       "    <tr style=\"text-align: right;\">\n",
       "      <th></th>\n",
       "      <th>Date</th>\n",
       "      <th>Open</th>\n",
       "      <th>High</th>\n",
       "      <th>Low</th>\n",
       "      <th>Close</th>\n",
       "      <th>Adj Close</th>\n",
       "      <th>Volume</th>\n",
       "    </tr>\n",
       "  </thead>\n",
       "  <tbody>\n",
       "    <tr>\n",
       "      <th>0</th>\n",
       "      <td>2020-03-23</td>\n",
       "      <td>149.660004</td>\n",
       "      <td>152.309998</td>\n",
       "      <td>142.250000</td>\n",
       "      <td>148.100006</td>\n",
       "      <td>148.100006</td>\n",
       "      <td>29830800</td>\n",
       "    </tr>\n",
       "    <tr>\n",
       "      <th>1</th>\n",
       "      <td>2020-03-24</td>\n",
       "      <td>155.210007</td>\n",
       "      <td>161.309998</td>\n",
       "      <td>152.570007</td>\n",
       "      <td>160.979996</td>\n",
       "      <td>160.979996</td>\n",
       "      <td>30440400</td>\n",
       "    </tr>\n",
       "    <tr>\n",
       "      <th>2</th>\n",
       "      <td>2020-03-25</td>\n",
       "      <td>158.919998</td>\n",
       "      <td>162.990005</td>\n",
       "      <td>153.059998</td>\n",
       "      <td>156.210007</td>\n",
       "      <td>156.210007</td>\n",
       "      <td>35184300</td>\n",
       "    </tr>\n",
       "    <tr>\n",
       "      <th>3</th>\n",
       "      <td>2020-03-26</td>\n",
       "      <td>158.250000</td>\n",
       "      <td>164.000000</td>\n",
       "      <td>157.020004</td>\n",
       "      <td>163.339996</td>\n",
       "      <td>163.339996</td>\n",
       "      <td>26556800</td>\n",
       "    </tr>\n",
       "    <tr>\n",
       "      <th>4</th>\n",
       "      <td>2020-03-27</td>\n",
       "      <td>158.199997</td>\n",
       "      <td>160.089996</td>\n",
       "      <td>154.750000</td>\n",
       "      <td>156.789993</td>\n",
       "      <td>156.789993</td>\n",
       "      <td>24879900</td>\n",
       "    </tr>\n",
       "    <tr>\n",
       "      <th>5</th>\n",
       "      <td>2020-03-30</td>\n",
       "      <td>159.179993</td>\n",
       "      <td>166.750000</td>\n",
       "      <td>158.059998</td>\n",
       "      <td>165.949997</td>\n",
       "      <td>165.949997</td>\n",
       "      <td>22515200</td>\n",
       "    </tr>\n",
       "    <tr>\n",
       "      <th>6</th>\n",
       "      <td>2020-03-31</td>\n",
       "      <td>165.479996</td>\n",
       "      <td>170.929993</td>\n",
       "      <td>164.199997</td>\n",
       "      <td>166.800003</td>\n",
       "      <td>166.800003</td>\n",
       "      <td>23676300</td>\n",
       "    </tr>\n",
       "    <tr>\n",
       "      <th>7</th>\n",
       "      <td>2020-04-01</td>\n",
       "      <td>161.619995</td>\n",
       "      <td>164.149994</td>\n",
       "      <td>158.039993</td>\n",
       "      <td>159.600006</td>\n",
       "      <td>159.600006</td>\n",
       "      <td>19507600</td>\n",
       "    </tr>\n",
       "    <tr>\n",
       "      <th>8</th>\n",
       "      <td>2020-04-02</td>\n",
       "      <td>159.100006</td>\n",
       "      <td>161.350006</td>\n",
       "      <td>155.919998</td>\n",
       "      <td>158.190002</td>\n",
       "      <td>158.190002</td>\n",
       "      <td>20886300</td>\n",
       "    </tr>\n",
       "    <tr>\n",
       "      <th>9</th>\n",
       "      <td>2020-04-03</td>\n",
       "      <td>157.149994</td>\n",
       "      <td>157.910004</td>\n",
       "      <td>150.830002</td>\n",
       "      <td>154.179993</td>\n",
       "      <td>154.179993</td>\n",
       "      <td>25983300</td>\n",
       "    </tr>\n",
       "  </tbody>\n",
       "</table>\n",
       "</div>"
      ],
      "text/plain": [
       "         Date        Open        High         Low       Close   Adj Close  \\\n",
       "0  2020-03-23  149.660004  152.309998  142.250000  148.100006  148.100006   \n",
       "1  2020-03-24  155.210007  161.309998  152.570007  160.979996  160.979996   \n",
       "2  2020-03-25  158.919998  162.990005  153.059998  156.210007  156.210007   \n",
       "3  2020-03-26  158.250000  164.000000  157.020004  163.339996  163.339996   \n",
       "4  2020-03-27  158.199997  160.089996  154.750000  156.789993  156.789993   \n",
       "5  2020-03-30  159.179993  166.750000  158.059998  165.949997  165.949997   \n",
       "6  2020-03-31  165.479996  170.929993  164.199997  166.800003  166.800003   \n",
       "7  2020-04-01  161.619995  164.149994  158.039993  159.600006  159.600006   \n",
       "8  2020-04-02  159.100006  161.350006  155.919998  158.190002  158.190002   \n",
       "9  2020-04-03  157.149994  157.910004  150.830002  154.179993  154.179993   \n",
       "\n",
       "     Volume  \n",
       "0  29830800  \n",
       "1  30440400  \n",
       "2  35184300  \n",
       "3  26556800  \n",
       "4  24879900  \n",
       "5  22515200  \n",
       "6  23676300  \n",
       "7  19507600  \n",
       "8  20886300  \n",
       "9  25983300  "
      ]
     },
     "execution_count": 17,
     "metadata": {},
     "output_type": "execute_result"
    }
   ],
   "source": [
    "ruta='ArchivosCSV/'\n",
    "#ruta='../../'\n",
    "#name='population_data.csv'\n",
    "name='FB.csv'\n",
    "data=pd.read_csv(ruta+name)\n",
    "data.head(10)"
   ]
  },
  {
   "cell_type": "code",
   "execution_count": 11,
   "metadata": {},
   "outputs": [
    {
     "data": {
      "text/html": [
       "<div>\n",
       "<style scoped>\n",
       "    .dataframe tbody tr th:only-of-type {\n",
       "        vertical-align: middle;\n",
       "    }\n",
       "\n",
       "    .dataframe tbody tr th {\n",
       "        vertical-align: top;\n",
       "    }\n",
       "\n",
       "    .dataframe thead th {\n",
       "        text-align: right;\n",
       "    }\n",
       "</style>\n",
       "<table border=\"1\" class=\"dataframe\">\n",
       "  <thead>\n",
       "    <tr style=\"text-align: right;\">\n",
       "      <th></th>\n",
       "      <th>Date</th>\n",
       "      <th>Open</th>\n",
       "      <th>High</th>\n",
       "      <th>Low</th>\n",
       "      <th>Close</th>\n",
       "      <th>Adj Close</th>\n",
       "      <th>Volume</th>\n",
       "    </tr>\n",
       "  </thead>\n",
       "  <tbody>\n",
       "    <tr>\n",
       "      <th>247</th>\n",
       "      <td>2021-03-16</td>\n",
       "      <td>276.079987</td>\n",
       "      <td>282.140015</td>\n",
       "      <td>274.799988</td>\n",
       "      <td>279.279999</td>\n",
       "      <td>279.279999</td>\n",
       "      <td>22178700</td>\n",
       "    </tr>\n",
       "    <tr>\n",
       "      <th>248</th>\n",
       "      <td>2021-03-17</td>\n",
       "      <td>275.709991</td>\n",
       "      <td>286.230011</td>\n",
       "      <td>275.410004</td>\n",
       "      <td>284.010010</td>\n",
       "      <td>284.010010</td>\n",
       "      <td>21073900</td>\n",
       "    </tr>\n",
       "    <tr>\n",
       "      <th>249</th>\n",
       "      <td>2021-03-18</td>\n",
       "      <td>279.869995</td>\n",
       "      <td>285.190002</td>\n",
       "      <td>278.279999</td>\n",
       "      <td>278.619995</td>\n",
       "      <td>278.619995</td>\n",
       "      <td>18728300</td>\n",
       "    </tr>\n",
       "    <tr>\n",
       "      <th>250</th>\n",
       "      <td>2021-03-19</td>\n",
       "      <td>281.220001</td>\n",
       "      <td>292.799988</td>\n",
       "      <td>281.200012</td>\n",
       "      <td>290.109985</td>\n",
       "      <td>290.109985</td>\n",
       "      <td>38905100</td>\n",
       "    </tr>\n",
       "    <tr>\n",
       "      <th>251</th>\n",
       "      <td>2021-03-22</td>\n",
       "      <td>290.450012</td>\n",
       "      <td>299.700012</td>\n",
       "      <td>286.750092</td>\n",
       "      <td>298.470001</td>\n",
       "      <td>298.470001</td>\n",
       "      <td>20175625</td>\n",
       "    </tr>\n",
       "  </tbody>\n",
       "</table>\n",
       "</div>"
      ],
      "text/plain": [
       "           Date        Open        High         Low       Close   Adj Close  \\\n",
       "247  2021-03-16  276.079987  282.140015  274.799988  279.279999  279.279999   \n",
       "248  2021-03-17  275.709991  286.230011  275.410004  284.010010  284.010010   \n",
       "249  2021-03-18  279.869995  285.190002  278.279999  278.619995  278.619995   \n",
       "250  2021-03-19  281.220001  292.799988  281.200012  290.109985  290.109985   \n",
       "251  2021-03-22  290.450012  299.700012  286.750092  298.470001  298.470001   \n",
       "\n",
       "       Volume  \n",
       "247  22178700  \n",
       "248  21073900  \n",
       "249  18728300  \n",
       "250  38905100  \n",
       "251  20175625  "
      ]
     },
     "execution_count": 11,
     "metadata": {},
     "output_type": "execute_result"
    }
   ],
   "source": [
    "data.tail()"
   ]
  },
  {
   "cell_type": "markdown",
   "metadata": {},
   "source": [
    "Ahora lo haremos desde Yahoo Finance"
   ]
  },
  {
   "cell_type": "code",
   "execution_count": 12,
   "metadata": {},
   "outputs": [],
   "source": [
    "web.DataReader?"
   ]
  },
  {
   "cell_type": "code",
   "execution_count": 13,
   "metadata": {},
   "outputs": [
    {
     "data": {
      "text/html": [
       "<div>\n",
       "<style scoped>\n",
       "    .dataframe tbody tr th:only-of-type {\n",
       "        vertical-align: middle;\n",
       "    }\n",
       "\n",
       "    .dataframe tbody tr th {\n",
       "        vertical-align: top;\n",
       "    }\n",
       "\n",
       "    .dataframe thead th {\n",
       "        text-align: right;\n",
       "    }\n",
       "</style>\n",
       "<table border=\"1\" class=\"dataframe\">\n",
       "  <thead>\n",
       "    <tr style=\"text-align: right;\">\n",
       "      <th></th>\n",
       "      <th>High</th>\n",
       "      <th>Low</th>\n",
       "      <th>Open</th>\n",
       "      <th>Close</th>\n",
       "      <th>Volume</th>\n",
       "      <th>Adj Close</th>\n",
       "    </tr>\n",
       "    <tr>\n",
       "      <th>Date</th>\n",
       "      <th></th>\n",
       "      <th></th>\n",
       "      <th></th>\n",
       "      <th></th>\n",
       "      <th></th>\n",
       "      <th></th>\n",
       "    </tr>\n",
       "  </thead>\n",
       "  <tbody>\n",
       "    <tr>\n",
       "      <th>2020-03-23</th>\n",
       "      <td>152.309998</td>\n",
       "      <td>142.250000</td>\n",
       "      <td>149.660004</td>\n",
       "      <td>148.100006</td>\n",
       "      <td>29830800</td>\n",
       "      <td>148.100006</td>\n",
       "    </tr>\n",
       "    <tr>\n",
       "      <th>2020-03-24</th>\n",
       "      <td>161.309998</td>\n",
       "      <td>152.570007</td>\n",
       "      <td>155.210007</td>\n",
       "      <td>160.979996</td>\n",
       "      <td>30440400</td>\n",
       "      <td>160.979996</td>\n",
       "    </tr>\n",
       "    <tr>\n",
       "      <th>2020-03-25</th>\n",
       "      <td>162.990005</td>\n",
       "      <td>153.059998</td>\n",
       "      <td>158.919998</td>\n",
       "      <td>156.210007</td>\n",
       "      <td>35184300</td>\n",
       "      <td>156.210007</td>\n",
       "    </tr>\n",
       "    <tr>\n",
       "      <th>2020-03-26</th>\n",
       "      <td>164.000000</td>\n",
       "      <td>157.020004</td>\n",
       "      <td>158.250000</td>\n",
       "      <td>163.339996</td>\n",
       "      <td>26556800</td>\n",
       "      <td>163.339996</td>\n",
       "    </tr>\n",
       "    <tr>\n",
       "      <th>2020-03-27</th>\n",
       "      <td>160.089996</td>\n",
       "      <td>154.750000</td>\n",
       "      <td>158.199997</td>\n",
       "      <td>156.789993</td>\n",
       "      <td>24879900</td>\n",
       "      <td>156.789993</td>\n",
       "    </tr>\n",
       "  </tbody>\n",
       "</table>\n",
       "</div>"
      ],
      "text/plain": [
       "                  High         Low        Open       Close    Volume  \\\n",
       "Date                                                                   \n",
       "2020-03-23  152.309998  142.250000  149.660004  148.100006  29830800   \n",
       "2020-03-24  161.309998  152.570007  155.210007  160.979996  30440400   \n",
       "2020-03-25  162.990005  153.059998  158.919998  156.210007  35184300   \n",
       "2020-03-26  164.000000  157.020004  158.250000  163.339996  26556800   \n",
       "2020-03-27  160.089996  154.750000  158.199997  156.789993  24879900   \n",
       "\n",
       "             Adj Close  \n",
       "Date                    \n",
       "2020-03-23  148.100006  \n",
       "2020-03-24  160.979996  \n",
       "2020-03-25  156.210007  \n",
       "2020-03-26  163.339996  \n",
       "2020-03-27  156.789993  "
      ]
     },
     "execution_count": 13,
     "metadata": {},
     "output_type": "execute_result"
    }
   ],
   "source": [
    "start='2020-03-23'\n",
    "end='2021-03-22'\n",
    "names='FB'\n",
    "data=web.DataReader(names,'yahoo',start,end)\n",
    "data.head()"
   ]
  },
  {
   "cell_type": "markdown",
   "metadata": {},
   "source": [
    "#### La api de yahoo es inestable. Puede ser que nos toque intentar varias veces antes de tener éxito"
   ]
  },
  {
   "cell_type": "code",
   "execution_count": 18,
   "metadata": {},
   "outputs": [],
   "source": [
    "def getCloses(names,start,end):\n",
    "    return web.DataReader(names,'yahoo',start,end)['Adj Close']"
   ]
  },
  {
   "cell_type": "markdown",
   "metadata": {},
   "source": [
    "¿Cómo lucen estos datos?"
   ]
  },
  {
   "cell_type": "code",
   "execution_count": 19,
   "metadata": {},
   "outputs": [
    {
     "data": {
      "text/html": [
       "<div>\n",
       "<style scoped>\n",
       "    .dataframe tbody tr th:only-of-type {\n",
       "        vertical-align: middle;\n",
       "    }\n",
       "\n",
       "    .dataframe tbody tr th {\n",
       "        vertical-align: top;\n",
       "    }\n",
       "\n",
       "    .dataframe thead th {\n",
       "        text-align: right;\n",
       "    }\n",
       "</style>\n",
       "<table border=\"1\" class=\"dataframe\">\n",
       "  <thead>\n",
       "    <tr style=\"text-align: right;\">\n",
       "      <th>Symbols</th>\n",
       "      <th>AAPL</th>\n",
       "      <th>AMZN</th>\n",
       "      <th>TSLA</th>\n",
       "    </tr>\n",
       "    <tr>\n",
       "      <th>Date</th>\n",
       "      <th></th>\n",
       "      <th></th>\n",
       "      <th></th>\n",
       "    </tr>\n",
       "  </thead>\n",
       "  <tbody>\n",
       "    <tr>\n",
       "      <th>2016-03-23</th>\n",
       "      <td>24.678110</td>\n",
       "      <td>569.630005</td>\n",
       "      <td>44.515999</td>\n",
       "    </tr>\n",
       "    <tr>\n",
       "      <th>2016-03-24</th>\n",
       "      <td>24.571148</td>\n",
       "      <td>582.950012</td>\n",
       "      <td>45.549999</td>\n",
       "    </tr>\n",
       "    <tr>\n",
       "      <th>2016-03-28</th>\n",
       "      <td>24.459534</td>\n",
       "      <td>579.869995</td>\n",
       "      <td>46.051998</td>\n",
       "    </tr>\n",
       "    <tr>\n",
       "      <th>2016-03-29</th>\n",
       "      <td>25.038527</td>\n",
       "      <td>593.859985</td>\n",
       "      <td>46.026001</td>\n",
       "    </tr>\n",
       "    <tr>\n",
       "      <th>2016-03-30</th>\n",
       "      <td>25.475679</td>\n",
       "      <td>598.690002</td>\n",
       "      <td>45.377998</td>\n",
       "    </tr>\n",
       "  </tbody>\n",
       "</table>\n",
       "</div>"
      ],
      "text/plain": [
       "Symbols          AAPL        AMZN       TSLA\n",
       "Date                                        \n",
       "2016-03-23  24.678110  569.630005  44.515999\n",
       "2016-03-24  24.571148  582.950012  45.549999\n",
       "2016-03-28  24.459534  579.869995  46.051998\n",
       "2016-03-29  25.038527  593.859985  46.026001\n",
       "2016-03-30  25.475679  598.690002  45.377998"
      ]
     },
     "execution_count": 19,
     "metadata": {},
     "output_type": "execute_result"
    }
   ],
   "source": [
    "names=['TSLA','AMZN','AAPL']\n",
    "start='2016-03-23'\n",
    "end='2021-03-22'\n",
    "data=getCloses(names,start,end)\n",
    "data.head()"
   ]
  },
  {
   "cell_type": "markdown",
   "metadata": {},
   "source": [
    "Una vez tenemos los datos, podemos operar con ellos. Por ejemplo un resumen de datos estadísticos se podría obtener con"
   ]
  },
  {
   "cell_type": "code",
   "execution_count": 21,
   "metadata": {},
   "outputs": [],
   "source": [
    "import matplotlib.pyplot as plt\n",
    "%matplotlib inline"
   ]
  },
  {
   "cell_type": "code",
   "execution_count": 23,
   "metadata": {},
   "outputs": [
    {
     "data": {
      "text/plain": [
       "<matplotlib.axes._subplots.AxesSubplot at 0x151e078cf8>"
      ]
     },
     "execution_count": 23,
     "metadata": {},
     "output_type": "execute_result"
    },
    {
     "data": {
      "image/png": "[encoded data removed]",
      "text/plain": [
       "<Figure size 720x432 with 1 Axes>"
      ]
     },
     "metadata": {
      "needs_background": "light"
     },
     "output_type": "display_data"
    }
   ],
   "source": [
    "data.plot(grid=True,figsize=(10,6))"
   ]
  },
  {
   "cell_type": "markdown",
   "metadata": {},
   "source": [
    "## 2. Rendimientos diarios\n",
    "\n",
    "Para una sucesión de precios $\\{S_t\\}_{t=0}^{n}$, el rendimiento simple $R_t$ se define como el el cambio porcentual\n",
    "$$\n",
    "R_t=\\frac{S_t-S_{t-1}}{S_{t-1}}\n",
    "$$\n",
    "para $t=1,\\ldots,n$.\n",
    "\n",
    "Para el ejemplo en curso, ¿cómo calcular esto?"
   ]
  },
  {
   "cell_type": "code",
   "execution_count": null,
   "metadata": {},
   "outputs": [],
   "source": []
  },
  {
   "cell_type": "markdown",
   "metadata": {},
   "source": [
    "y la gráfica de los rendimientos se puede obtener como..."
   ]
  },
  {
   "cell_type": "code",
   "execution_count": null,
   "metadata": {},
   "outputs": [],
   "source": []
  },
  {
   "cell_type": "markdown",
   "metadata": {},
   "source": [
    "Donde se observa que el rendimiento tiene una tendencia constante y, por tanto, se puede plantear la hipótesis de que se puede modelar usando un proceso estocástico estacionario en media."
   ]
  },
  {
   "cell_type": "markdown",
   "metadata": {},
   "source": [
    "Otro rendimiento usado con frecuencia es el rendimiento continuamente compuesto o rendimiento logaritmico. Éste, está definido como\n",
    "\n",
    "$$\n",
    "r_t=\\ln\\left(\\frac{S_t}{S_{t-1}}\\right).\n",
    "$$\n",
    "\n",
    "**Esta ecuación sólo es válida cuando se tienen periodos cortos de tiempo**\n",
    "Es fácil darse cuenta que $r_t=\\ln(1+R_t)$.\n",
    "\n",
    "**Nota:** ver gráficamente que si $0\\leq|x|\\ll 1$, entonces $\\ln(1+x)\\approx x$.\n",
    "\n",
    "Para este caso, la fórmula del rendimiento continuamente compuesto se translada facilmente a código Python (obtener, graficar y comparar)."
   ]
  },
  {
   "cell_type": "code",
   "execution_count": null,
   "metadata": {},
   "outputs": [],
   "source": []
  },
  {
   "cell_type": "markdown",
   "metadata": {},
   "source": [
    "Donde se observa que el rendimiento tiene una tendencia constante y, por tanto, se puede plantear la hipótesis de que se puede modelar usando un proceso estocástico estacionario en media.\n",
    "\n",
    "Podemos incluso plantear la hipótesis de que los log rendimientos son normales..."
   ]
  },
  {
   "cell_type": "code",
   "execution_count": null,
   "metadata": {},
   "outputs": [],
   "source": []
  },
  {
   "cell_type": "markdown",
   "metadata": {},
   "source": [
    "___\n",
    "Recapitulando, hoy aprendimos a obtener datos con pandas-datareader directamente desde un archivo local ó fuentes remotas.\n",
    "\n",
    "Por otra parte, estudiamos los rendimientos diarios y dimos con la conclusión de que se podrían modelar como un proceso estocástico estacionario normal."
   ]
  },
  {
   "cell_type": "markdown",
   "metadata": {},
   "source": [
    "La siguiente clase veremos como simular escenarios de comportamiento de los precios futuros (no determinístico, no sabemos como se comporta, muchas posibilidades: montecarlo) a partir de datos de ingresos diarios.\n",
    "\n",
    "Luego, con esas predicciones veremos la probabilidad de que el precio de las acciones quede por encima (debajo) de cierto umbral y con ello tomar decisiones de vender (comprar) estas acciones."
   ]
  }
 ],
 "metadata": {
  "kernelspec": {
   "display_name": "Python 3",
   "language": "python",
   "name": "python3"
  },
  "language_info": {
   "codemirror_mode": {
    "name": "ipython",
    "version": 3
   },
   "file_extension": ".py",
   "mimetype": "text/x-python",
   "name": "python",
   "nbconvert_exporter": "python",
   "pygments_lexer": "ipython3",
   "version": "3.7.3"
  }
 },
 "nbformat": 4,
 "nbformat_minor": 2
}
