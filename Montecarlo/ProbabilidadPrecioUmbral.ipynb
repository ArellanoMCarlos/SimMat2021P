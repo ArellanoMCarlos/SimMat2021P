{
 "cells": [
  {
   "cell_type": "markdown",
   "metadata": {},
   "source": [
    "# Aplicando Python para análisis de precios: simulación de escenarios futuros de precios\n",
    "\n",
    "<img style=\"float: right; margin: 0px 0px 15px 15px;\" src=\"https://upload.wikimedia.org/wikipedia/commons/d/d7/Philippine-stock-market-board.jpg\" width=\"400px\" height=\"125px\" />\n",
    "\n",
    "> En la clase anterior vimos como importar datos de activos de la base de datos de Yahoo Finance usando el paquete pandas-datareader. En esta clase, veremos como pronosticar escenarios de evolución de precios, suponiendo que los rendimientos diarios se distribuyen normalmente. Como esta evolución de precios es aleatoria, utilizaremos la simulación montecarlo (hacer muchas simulaciones de escenarios de evolución de precios) para obtener probabilidades de que los precios de cierre estén encima de un valor umbral y tomar decisiones con base en estas probabilidades.\n",
    "\n",
    "**Referencias:**\n",
    "- http://pandas.pydata.org/\n",
    "- http://www.learndatasci.com/python-finance-part-yahoo-finance-api-pandas-matplotlib/"
   ]
  },
  {
   "cell_type": "markdown",
   "metadata": {},
   "source": [
    "## 1. Recordemos como descargar datos..."
   ]
  },
  {
   "cell_type": "markdown",
   "metadata": {},
   "source": [
    "Antes que nada, para poder hacer simular escenarios de predicción de precios, vamos a recordar lo que hicimos en la clase pasada de descargar los datos de Yahoo Finance, utilizando el paquete `data` de la librería `pandas_datareader`.\n",
    "\n",
    "Esta vez, utilizaremos los datos de precios de cierre ajustados de activos de la compañía Apple en el año 2016 para nuestra aplicación."
   ]
  },
  {
   "cell_type": "code",
   "execution_count": 1,
   "metadata": {},
   "outputs": [],
   "source": [
    "import pandas as pd\n",
    "import pandas_datareader.data as web\n",
    "import numpy as np\n",
    "import matplotlib.pyplot as plt"
   ]
  },
  {
   "cell_type": "code",
   "execution_count": 2,
   "metadata": {},
   "outputs": [],
   "source": [
    "def getCloses(names,start,end):\n",
    "    return web.DataReader(names,'yahoo',start,end)['Adj Close']"
   ]
  },
  {
   "cell_type": "code",
   "execution_count": 3,
   "metadata": {},
   "outputs": [
    {
     "data": {
      "text/html": [
       "<div>\n",
       "<style scoped>\n",
       "    .dataframe tbody tr th:only-of-type {\n",
       "        vertical-align: middle;\n",
       "    }\n",
       "\n",
       "    .dataframe tbody tr th {\n",
       "        vertical-align: top;\n",
       "    }\n",
       "\n",
       "    .dataframe thead th {\n",
       "        text-align: right;\n",
       "    }\n",
       "</style>\n",
       "<table border=\"1\" class=\"dataframe\">\n",
       "  <thead>\n",
       "    <tr style=\"text-align: right;\">\n",
       "      <th>Symbols</th>\n",
       "      <th>AAPL</th>\n",
       "      <th>AMZN</th>\n",
       "      <th>TSLA</th>\n",
       "    </tr>\n",
       "    <tr>\n",
       "      <th>Date</th>\n",
       "      <th></th>\n",
       "      <th></th>\n",
       "      <th></th>\n",
       "    </tr>\n",
       "  </thead>\n",
       "  <tbody>\n",
       "    <tr>\n",
       "      <th>2016-03-28</th>\n",
       "      <td>24.459534</td>\n",
       "      <td>579.869995</td>\n",
       "      <td>46.051998</td>\n",
       "    </tr>\n",
       "    <tr>\n",
       "      <th>2016-03-29</th>\n",
       "      <td>25.038527</td>\n",
       "      <td>593.859985</td>\n",
       "      <td>46.026001</td>\n",
       "    </tr>\n",
       "    <tr>\n",
       "      <th>2016-03-30</th>\n",
       "      <td>25.475679</td>\n",
       "      <td>598.690002</td>\n",
       "      <td>45.377998</td>\n",
       "    </tr>\n",
       "    <tr>\n",
       "      <th>2016-03-31</th>\n",
       "      <td>25.343138</td>\n",
       "      <td>593.640015</td>\n",
       "      <td>45.953999</td>\n",
       "    </tr>\n",
       "    <tr>\n",
       "      <th>2016-04-01</th>\n",
       "      <td>25.575666</td>\n",
       "      <td>598.500000</td>\n",
       "      <td>47.518002</td>\n",
       "    </tr>\n",
       "  </tbody>\n",
       "</table>\n",
       "</div>"
      ],
      "text/plain": [
       "Symbols          AAPL        AMZN       TSLA\n",
       "Date                                        \n",
       "2016-03-28  24.459534  579.869995  46.051998\n",
       "2016-03-29  25.038527  593.859985  46.026001\n",
       "2016-03-30  25.475679  598.690002  45.377998\n",
       "2016-03-31  25.343138  593.640015  45.953999\n",
       "2016-04-01  25.575666  598.500000  47.518002"
      ]
     },
     "execution_count": 3,
     "metadata": {},
     "output_type": "execute_result"
    }
   ],
   "source": [
    "names=['AMZN','AAPL','TSLA']\n",
    "start='2016-03-25'\n",
    "end='2021-03-24'\n",
    "data=getCloses(names,start,end)\n",
    "data.head()"
   ]
  },
  {
   "cell_type": "markdown",
   "metadata": {},
   "source": [
    "## 2. Simulación de rendimientos diarios\n",
    "\n",
    "Recordemos que los precios diarios de cierre ajustados no son un proceso estocástico estacionario, pero los rendimientos diarios si lo son. Por tanto calculamos los rendimientos a partir de los precios de cierre, obtenemos sus propiedades estadísticas muestrales y proyectamos los rendimientos. Luego, obtenemos la proyección de los precios.\n",
    "\n",
    "Para una sucesión de precios $\\{S_t\\}_{t=0}^{n}$, el rendimiento simple $R_t$ se define como el cambio porcentual\n",
    "\n",
    "$$\n",
    "R_t=\\frac{S_t-S_{t-1}}{S_{t-1}}\\approx \\ln\\left(\\frac{S_t}{S_{t-1}}\\right)=r_t.\n",
    "$$\n",
    "para $t=1,\\ldots,n$.\n",
    "\n",
    "Para el ejemplo en curso, ¿cómo calcular esto?"
   ]
  },
  {
   "cell_type": "markdown",
   "metadata": {},
   "source": [
    "Además, supusimos que los rendimientos diarios eran una variable aleatoria con distribución normal (que se caracteriza con su media y varianza). Por tanto obtenemos la media y desviación estandar muestrales. Hagamos una función que retorne lo anterior."
   ]
  },
  {
   "cell_type": "code",
   "execution_count": 4,
   "metadata": {},
   "outputs": [
    {
     "data": {
      "text/html": [
       "<div>\n",
       "<style scoped>\n",
       "    .dataframe tbody tr th:only-of-type {\n",
       "        vertical-align: middle;\n",
       "    }\n",
       "\n",
       "    .dataframe tbody tr th {\n",
       "        vertical-align: top;\n",
       "    }\n",
       "\n",
       "    .dataframe thead th {\n",
       "        text-align: right;\n",
       "    }\n",
       "</style>\n",
       "<table border=\"1\" class=\"dataframe\">\n",
       "  <thead>\n",
       "    <tr style=\"text-align: right;\">\n",
       "      <th>Symbols</th>\n",
       "      <th>AAPL</th>\n",
       "      <th>AMZN</th>\n",
       "      <th>TSLA</th>\n",
       "    </tr>\n",
       "    <tr>\n",
       "      <th>Date</th>\n",
       "      <th></th>\n",
       "      <th></th>\n",
       "      <th></th>\n",
       "    </tr>\n",
       "  </thead>\n",
       "  <tbody>\n",
       "    <tr>\n",
       "      <th>2016-03-29</th>\n",
       "      <td>0.023671</td>\n",
       "      <td>0.024126</td>\n",
       "      <td>-0.000565</td>\n",
       "    </tr>\n",
       "    <tr>\n",
       "      <th>2016-03-30</th>\n",
       "      <td>0.017459</td>\n",
       "      <td>0.008133</td>\n",
       "      <td>-0.014079</td>\n",
       "    </tr>\n",
       "    <tr>\n",
       "      <th>2016-03-31</th>\n",
       "      <td>-0.005203</td>\n",
       "      <td>-0.008435</td>\n",
       "      <td>0.012693</td>\n",
       "    </tr>\n",
       "    <tr>\n",
       "      <th>2016-04-01</th>\n",
       "      <td>0.009175</td>\n",
       "      <td>0.008187</td>\n",
       "      <td>0.034034</td>\n",
       "    </tr>\n",
       "    <tr>\n",
       "      <th>2016-04-04</th>\n",
       "      <td>0.010274</td>\n",
       "      <td>-0.008872</td>\n",
       "      <td>0.039564</td>\n",
       "    </tr>\n",
       "  </tbody>\n",
       "</table>\n",
       "</div>"
      ],
      "text/plain": [
       "Symbols         AAPL      AMZN      TSLA\n",
       "Date                                    \n",
       "2016-03-29  0.023671  0.024126 -0.000565\n",
       "2016-03-30  0.017459  0.008133 -0.014079\n",
       "2016-03-31 -0.005203 -0.008435  0.012693\n",
       "2016-04-01  0.009175  0.008187  0.034034\n",
       "2016-04-04  0.010274 -0.008872  0.039564"
      ]
     },
     "execution_count": 4,
     "metadata": {},
     "output_type": "execute_result"
    }
   ],
   "source": [
    "R=data.pct_change().dropna()\n",
    "R.head()"
   ]
  },
  {
   "cell_type": "code",
   "execution_count": 7,
   "metadata": {},
   "outputs": [
    {
     "data": {
      "text/plain": [
       "Symbols\n",
       "AAPL    0.001450\n",
       "AMZN    0.001502\n",
       "TSLA    0.002769\n",
       "dtype: float64"
      ]
     },
     "execution_count": 7,
     "metadata": {},
     "output_type": "execute_result"
    }
   ],
   "source": [
    "mu=R.mean()\n",
    "mu"
   ]
  },
  {
   "cell_type": "code",
   "execution_count": 8,
   "metadata": {},
   "outputs": [
    {
     "data": {
      "text/plain": [
       "Symbols\n",
       "AAPL    0.019124\n",
       "AMZN    0.018555\n",
       "TSLA    0.037125\n",
       "dtype: float64"
      ]
     },
     "execution_count": 8,
     "metadata": {},
     "output_type": "execute_result"
    }
   ],
   "source": [
    "std=R.std()\n",
    "std"
   ]
  },
  {
   "cell_type": "markdown",
   "metadata": {},
   "source": [
    "Entonces, suponemos que el cambio porcentual de los precios (rendimientos diarios) tiene una distribución normal.\n",
    "\n",
    "¿Cómo se caracteriza una [distribución normal](https://es.wikipedia.org/wiki/Distribuci%C3%B3n_normal)?"
   ]
  },
  {
   "cell_type": "code",
   "execution_count": 9,
   "metadata": {},
   "outputs": [],
   "source": [
    "# np.random.randn  -> 365,N\n",
    "# np.random.normal -> mu,std,size=(365,N)\n",
    "# N -> Es el número de escenarios\n",
    "N=100"
   ]
  },
  {
   "cell_type": "code",
   "execution_count": 12,
   "metadata": {},
   "outputs": [
    {
     "data": {
      "image/png": "[encoded data removed]",
      "text/plain": [
       "<Figure size 432x288 with 1 Axes>"
      ]
     },
     "metadata": {
      "needs_background": "light"
     },
     "output_type": "display_data"
    }
   ],
   "source": [
    "sim=np.random.normal(mu['AAPL'],std['AAPL'],size=365)\n",
    "H=plt.hist(sim,bins=50)"
   ]
  },
  {
   "cell_type": "code",
   "execution_count": 13,
   "metadata": {},
   "outputs": [
    {
     "data": {
      "image/png": "[encoded data removed]",
      "text/plain": [
       "<Figure size 432x288 with 1 Axes>"
      ]
     },
     "metadata": {
      "needs_background": "light"
     },
     "output_type": "display_data"
    }
   ],
   "source": [
    "H=R['AAPL'].hist(bins=50)"
   ]
  },
  {
   "cell_type": "markdown",
   "metadata": {},
   "source": [
    "Habiendo caracterizado los rendimientos diarios como una variable aleatoria normal con la media y la varianza muestral obtenida de los datos del 2018, podemos generar números aleatorios con estas características para simular el comportamiento de los precios de cierre de las acciones en el 2019 (hay un supuesto de que las cosas no cambiarán fundamentalmente).\n",
    "\n",
    "Sin embargo, cada simulación que hagamos nos conducirá a distintos resultados (los precios siguen evolucionando aleatoriamente). Entonces, lo que haremos es simular varios escenarios para así ver alguna tendencia y tomar decisiones.\n",
    "\n",
    "Hagamos una una función que simule varios escenarios de rendimientos diarios y que devuelva un dataframe con esta simulación."
   ]
  },
  {
   "cell_type": "code",
   "execution_count": 15,
   "metadata": {},
   "outputs": [
    {
     "data": {
      "text/plain": [
       "DatetimeIndex(['2021-03-25', '2021-03-26', '2021-03-27', '2021-03-28',\n",
       "               '2021-03-29'],\n",
       "              dtype='datetime64[ns]', freq='D')"
      ]
     },
     "execution_count": 15,
     "metadata": {},
     "output_type": "execute_result"
    }
   ],
   "source": [
    "#pd.date_range?\n",
    "pd.date_range('2021-03-25',periods=5)"
   ]
  },
  {
   "cell_type": "code",
   "execution_count": 16,
   "metadata": {},
   "outputs": [],
   "source": [
    "def simular(mu,std,start,ndays,N):\n",
    "    rango=pd.date_range(start,periods=ndays)\n",
    "    return pd.DataFrame(index=rango,data=np.random.normal(mu,std,size=(ndays,N)))"
   ]
  },
  {
   "cell_type": "code",
   "execution_count": 17,
   "metadata": {},
   "outputs": [
    {
     "data": {
      "text/html": [
       "<div>\n",
       "<style scoped>\n",
       "    .dataframe tbody tr th:only-of-type {\n",
       "        vertical-align: middle;\n",
       "    }\n",
       "\n",
       "    .dataframe tbody tr th {\n",
       "        vertical-align: top;\n",
       "    }\n",
       "\n",
       "    .dataframe thead th {\n",
       "        text-align: right;\n",
       "    }\n",
       "</style>\n",
       "<table border=\"1\" class=\"dataframe\">\n",
       "  <thead>\n",
       "    <tr style=\"text-align: right;\">\n",
       "      <th></th>\n",
       "      <th>0</th>\n",
       "      <th>1</th>\n",
       "      <th>2</th>\n",
       "      <th>3</th>\n",
       "      <th>4</th>\n",
       "      <th>5</th>\n",
       "      <th>6</th>\n",
       "      <th>7</th>\n",
       "      <th>8</th>\n",
       "      <th>9</th>\n",
       "      <th>...</th>\n",
       "      <th>90</th>\n",
       "      <th>91</th>\n",
       "      <th>92</th>\n",
       "      <th>93</th>\n",
       "      <th>94</th>\n",
       "      <th>95</th>\n",
       "      <th>96</th>\n",
       "      <th>97</th>\n",
       "      <th>98</th>\n",
       "      <th>99</th>\n",
       "    </tr>\n",
       "  </thead>\n",
       "  <tbody>\n",
       "    <tr>\n",
       "      <th>2021-03-25</th>\n",
       "      <td>-0.020161</td>\n",
       "      <td>-0.032006</td>\n",
       "      <td>0.022200</td>\n",
       "      <td>-0.012859</td>\n",
       "      <td>-0.020438</td>\n",
       "      <td>0.006871</td>\n",
       "      <td>0.005582</td>\n",
       "      <td>0.031364</td>\n",
       "      <td>-0.013267</td>\n",
       "      <td>0.007057</td>\n",
       "      <td>...</td>\n",
       "      <td>0.006009</td>\n",
       "      <td>0.005705</td>\n",
       "      <td>0.004046</td>\n",
       "      <td>-0.036414</td>\n",
       "      <td>-0.006352</td>\n",
       "      <td>-0.003357</td>\n",
       "      <td>-0.009568</td>\n",
       "      <td>-0.003758</td>\n",
       "      <td>0.003054</td>\n",
       "      <td>-0.009473</td>\n",
       "    </tr>\n",
       "    <tr>\n",
       "      <th>2021-03-26</th>\n",
       "      <td>0.031662</td>\n",
       "      <td>0.019319</td>\n",
       "      <td>0.019251</td>\n",
       "      <td>-0.018409</td>\n",
       "      <td>0.019497</td>\n",
       "      <td>-0.022257</td>\n",
       "      <td>0.000439</td>\n",
       "      <td>0.019028</td>\n",
       "      <td>-0.027064</td>\n",
       "      <td>0.007669</td>\n",
       "      <td>...</td>\n",
       "      <td>-0.008883</td>\n",
       "      <td>0.009921</td>\n",
       "      <td>0.015541</td>\n",
       "      <td>-0.005547</td>\n",
       "      <td>-0.024657</td>\n",
       "      <td>0.008021</td>\n",
       "      <td>0.003310</td>\n",
       "      <td>-0.007580</td>\n",
       "      <td>0.011284</td>\n",
       "      <td>-0.008403</td>\n",
       "    </tr>\n",
       "    <tr>\n",
       "      <th>2021-03-27</th>\n",
       "      <td>-0.002517</td>\n",
       "      <td>0.008605</td>\n",
       "      <td>0.017402</td>\n",
       "      <td>-0.002285</td>\n",
       "      <td>-0.017180</td>\n",
       "      <td>0.044833</td>\n",
       "      <td>-0.006649</td>\n",
       "      <td>0.033753</td>\n",
       "      <td>0.001416</td>\n",
       "      <td>-0.025894</td>\n",
       "      <td>...</td>\n",
       "      <td>0.024018</td>\n",
       "      <td>0.008214</td>\n",
       "      <td>0.010752</td>\n",
       "      <td>0.008809</td>\n",
       "      <td>-0.009403</td>\n",
       "      <td>0.047667</td>\n",
       "      <td>-0.016378</td>\n",
       "      <td>-0.000560</td>\n",
       "      <td>-0.004838</td>\n",
       "      <td>0.005291</td>\n",
       "    </tr>\n",
       "    <tr>\n",
       "      <th>2021-03-28</th>\n",
       "      <td>-0.015470</td>\n",
       "      <td>0.010727</td>\n",
       "      <td>0.012738</td>\n",
       "      <td>-0.019908</td>\n",
       "      <td>0.007839</td>\n",
       "      <td>-0.011689</td>\n",
       "      <td>0.020832</td>\n",
       "      <td>-0.022973</td>\n",
       "      <td>-0.014974</td>\n",
       "      <td>0.006503</td>\n",
       "      <td>...</td>\n",
       "      <td>-0.030866</td>\n",
       "      <td>-0.011784</td>\n",
       "      <td>0.018136</td>\n",
       "      <td>-0.006565</td>\n",
       "      <td>0.010971</td>\n",
       "      <td>0.015361</td>\n",
       "      <td>0.022859</td>\n",
       "      <td>-0.017099</td>\n",
       "      <td>-0.013206</td>\n",
       "      <td>-0.000399</td>\n",
       "    </tr>\n",
       "    <tr>\n",
       "      <th>2021-03-29</th>\n",
       "      <td>0.014692</td>\n",
       "      <td>0.005361</td>\n",
       "      <td>-0.013209</td>\n",
       "      <td>0.002465</td>\n",
       "      <td>0.007193</td>\n",
       "      <td>0.006885</td>\n",
       "      <td>0.035522</td>\n",
       "      <td>-0.016380</td>\n",
       "      <td>-0.010997</td>\n",
       "      <td>0.055630</td>\n",
       "      <td>...</td>\n",
       "      <td>0.000306</td>\n",
       "      <td>0.001351</td>\n",
       "      <td>0.015495</td>\n",
       "      <td>0.020016</td>\n",
       "      <td>-0.010612</td>\n",
       "      <td>-0.000151</td>\n",
       "      <td>0.057833</td>\n",
       "      <td>0.006554</td>\n",
       "      <td>0.025040</td>\n",
       "      <td>-0.001336</td>\n",
       "    </tr>\n",
       "  </tbody>\n",
       "</table>\n",
       "<p>5 rows × 100 columns</p>\n",
       "</div>"
      ],
      "text/plain": [
       "                  0         1         2         3         4         5   \\\n",
       "2021-03-25 -0.020161 -0.032006  0.022200 -0.012859 -0.020438  0.006871   \n",
       "2021-03-26  0.031662  0.019319  0.019251 -0.018409  0.019497 -0.022257   \n",
       "2021-03-27 -0.002517  0.008605  0.017402 -0.002285 -0.017180  0.044833   \n",
       "2021-03-28 -0.015470  0.010727  0.012738 -0.019908  0.007839 -0.011689   \n",
       "2021-03-29  0.014692  0.005361 -0.013209  0.002465  0.007193  0.006885   \n",
       "\n",
       "                  6         7         8         9   ...        90        91  \\\n",
       "2021-03-25  0.005582  0.031364 -0.013267  0.007057  ...  0.006009  0.005705   \n",
       "2021-03-26  0.000439  0.019028 -0.027064  0.007669  ... -0.008883  0.009921   \n",
       "2021-03-27 -0.006649  0.033753  0.001416 -0.025894  ...  0.024018  0.008214   \n",
       "2021-03-28  0.020832 -0.022973 -0.014974  0.006503  ... -0.030866 -0.011784   \n",
       "2021-03-29  0.035522 -0.016380 -0.010997  0.055630  ...  0.000306  0.001351   \n",
       "\n",
       "                  92        93        94        95        96        97  \\\n",
       "2021-03-25  0.004046 -0.036414 -0.006352 -0.003357 -0.009568 -0.003758   \n",
       "2021-03-26  0.015541 -0.005547 -0.024657  0.008021  0.003310 -0.007580   \n",
       "2021-03-27  0.010752  0.008809 -0.009403  0.047667 -0.016378 -0.000560   \n",
       "2021-03-28  0.018136 -0.006565  0.010971  0.015361  0.022859 -0.017099   \n",
       "2021-03-29  0.015495  0.020016 -0.010612 -0.000151  0.057833  0.006554   \n",
       "\n",
       "                  98        99  \n",
       "2021-03-25  0.003054 -0.009473  \n",
       "2021-03-26  0.011284 -0.008403  \n",
       "2021-03-27 -0.004838  0.005291  \n",
       "2021-03-28 -0.013206 -0.000399  \n",
       "2021-03-29  0.025040 -0.001336  \n",
       "\n",
       "[5 rows x 100 columns]"
      ]
     },
     "execution_count": 17,
     "metadata": {},
     "output_type": "execute_result"
    }
   ],
   "source": [
    "simAAPL=simular(mu['AAPL'],std['AAPL'],'2021-03-25',365,N)\n",
    "simAAPL.head()"
   ]
  },
  {
   "cell_type": "code",
   "execution_count": 20,
   "metadata": {},
   "outputs": [
    {
     "data": {
      "text/plain": [
       "array([[<matplotlib.axes._subplots.AxesSubplot object at 0x000000CEE33C5160>,\n",
       "        <matplotlib.axes._subplots.AxesSubplot object at 0x000000CEEA0CAD68>]],\n",
       "      dtype=object)"
      ]
     },
     "execution_count": 20,
     "metadata": {},
     "output_type": "execute_result"
    },
    {
     "data": {
      "image/png": "[encoded data removed]",
      "text/plain": [
       "<Figure size 432x288 with 2 Axes>"
      ]
     },
     "metadata": {
      "needs_background": "light"
     },
     "output_type": "display_data"
    }
   ],
   "source": [
    "simAAPL[[0,1]].hist(bins=50)"
   ]
  },
  {
   "cell_type": "markdown",
   "metadata": {},
   "source": [
    "## 3. Proyección de precios de cierre"
   ]
  },
  {
   "cell_type": "markdown",
   "metadata": {},
   "source": [
    "Por tanto, para calcular los precios, tenemos:\n",
    "\n",
    "$$\\begin{align}\n",
    "p_i&=p_{i-1}(R_i+1)\\\\\n",
    "p_{i+1}&=p_i(R_{i+1}+1)=p_{i-1}(R_i+1)(R_{i+1}+1)\\\\\n",
    "&\\vdots\\\\\n",
    "p_{i+k}&=p_{i-1}(R_i+1)\\cdots(R_{i+k}+1).\n",
    "\\end{align}$$\n",
    "\n",
    "Si hacemos $i=0$ en la última ecuación, tenemos que $p_{k}=p_{-1}(R_0+1)\\cdots(R_{k}+1)$, donde $p_{-1}$ es el último precio reportado en el 2018."
   ]
  },
  {
   "cell_type": "markdown",
   "metadata": {},
   "source": [
    "Con los rendimientos, calculamos los precios de cierre..."
   ]
  },
  {
   "cell_type": "code",
   "execution_count": 21,
   "metadata": {},
   "outputs": [],
   "source": [
    "# Producto acumulativo a lo largo de los rengolones\n",
    "pd.DataFrame.cumprod?"
   ]
  },
  {
   "cell_type": "code",
   "execution_count": 22,
   "metadata": {},
   "outputs": [
    {
     "data": {
      "text/plain": [
       "120.08999633789062"
      ]
     },
     "execution_count": 22,
     "metadata": {},
     "output_type": "execute_result"
    }
   ],
   "source": [
    "# El último valor conocido\n",
    "data['AAPL'][-1]"
   ]
  },
  {
   "cell_type": "code",
   "execution_count": 23,
   "metadata": {},
   "outputs": [
    {
     "data": {
      "text/html": [
       "<div>\n",
       "<style scoped>\n",
       "    .dataframe tbody tr th:only-of-type {\n",
       "        vertical-align: middle;\n",
       "    }\n",
       "\n",
       "    .dataframe tbody tr th {\n",
       "        vertical-align: top;\n",
       "    }\n",
       "\n",
       "    .dataframe thead th {\n",
       "        text-align: right;\n",
       "    }\n",
       "</style>\n",
       "<table border=\"1\" class=\"dataframe\">\n",
       "  <thead>\n",
       "    <tr style=\"text-align: right;\">\n",
       "      <th>Symbols</th>\n",
       "      <th>AAPL</th>\n",
       "      <th>AMZN</th>\n",
       "      <th>TSLA</th>\n",
       "    </tr>\n",
       "    <tr>\n",
       "      <th>Date</th>\n",
       "      <th></th>\n",
       "      <th></th>\n",
       "      <th></th>\n",
       "    </tr>\n",
       "  </thead>\n",
       "  <tbody>\n",
       "    <tr>\n",
       "      <th>2021-03-18</th>\n",
       "      <td>120.529999</td>\n",
       "      <td>3027.989990</td>\n",
       "      <td>653.159973</td>\n",
       "    </tr>\n",
       "    <tr>\n",
       "      <th>2021-03-19</th>\n",
       "      <td>119.989998</td>\n",
       "      <td>3074.959961</td>\n",
       "      <td>654.869995</td>\n",
       "    </tr>\n",
       "    <tr>\n",
       "      <th>2021-03-22</th>\n",
       "      <td>123.389999</td>\n",
       "      <td>3110.870117</td>\n",
       "      <td>670.000000</td>\n",
       "    </tr>\n",
       "    <tr>\n",
       "      <th>2021-03-23</th>\n",
       "      <td>122.540001</td>\n",
       "      <td>3137.500000</td>\n",
       "      <td>662.159973</td>\n",
       "    </tr>\n",
       "    <tr>\n",
       "      <th>2021-03-24</th>\n",
       "      <td>120.089996</td>\n",
       "      <td>3087.070068</td>\n",
       "      <td>630.270020</td>\n",
       "    </tr>\n",
       "  </tbody>\n",
       "</table>\n",
       "</div>"
      ],
      "text/plain": [
       "Symbols           AAPL         AMZN        TSLA\n",
       "Date                                           \n",
       "2021-03-18  120.529999  3027.989990  653.159973\n",
       "2021-03-19  119.989998  3074.959961  654.869995\n",
       "2021-03-22  123.389999  3110.870117  670.000000\n",
       "2021-03-23  122.540001  3137.500000  662.159973\n",
       "2021-03-24  120.089996  3087.070068  630.270020"
      ]
     },
     "execution_count": 23,
     "metadata": {},
     "output_type": "execute_result"
    }
   ],
   "source": [
    "data.tail()"
   ]
  },
  {
   "cell_type": "code",
   "execution_count": 26,
   "metadata": {},
   "outputs": [
    {
     "data": {
      "text/html": [
       "<div>\n",
       "<style scoped>\n",
       "    .dataframe tbody tr th:only-of-type {\n",
       "        vertical-align: middle;\n",
       "    }\n",
       "\n",
       "    .dataframe tbody tr th {\n",
       "        vertical-align: top;\n",
       "    }\n",
       "\n",
       "    .dataframe thead th {\n",
       "        text-align: right;\n",
       "    }\n",
       "</style>\n",
       "<table border=\"1\" class=\"dataframe\">\n",
       "  <thead>\n",
       "    <tr style=\"text-align: right;\">\n",
       "      <th></th>\n",
       "      <th>0</th>\n",
       "      <th>1</th>\n",
       "      <th>2</th>\n",
       "      <th>3</th>\n",
       "      <th>4</th>\n",
       "      <th>5</th>\n",
       "      <th>6</th>\n",
       "      <th>7</th>\n",
       "      <th>8</th>\n",
       "      <th>9</th>\n",
       "      <th>...</th>\n",
       "      <th>90</th>\n",
       "      <th>91</th>\n",
       "      <th>92</th>\n",
       "      <th>93</th>\n",
       "      <th>94</th>\n",
       "      <th>95</th>\n",
       "      <th>96</th>\n",
       "      <th>97</th>\n",
       "      <th>98</th>\n",
       "      <th>99</th>\n",
       "    </tr>\n",
       "  </thead>\n",
       "  <tbody>\n",
       "    <tr>\n",
       "      <th>2021-03-25</th>\n",
       "      <td>117.668854</td>\n",
       "      <td>116.246409</td>\n",
       "      <td>122.756029</td>\n",
       "      <td>118.545745</td>\n",
       "      <td>117.635591</td>\n",
       "      <td>120.915120</td>\n",
       "      <td>120.760375</td>\n",
       "      <td>123.856504</td>\n",
       "      <td>118.496759</td>\n",
       "      <td>120.937483</td>\n",
       "      <td>...</td>\n",
       "      <td>120.811570</td>\n",
       "      <td>120.775132</td>\n",
       "      <td>120.575836</td>\n",
       "      <td>115.717069</td>\n",
       "      <td>119.327127</td>\n",
       "      <td>119.686818</td>\n",
       "      <td>118.940984</td>\n",
       "      <td>119.638752</td>\n",
       "      <td>120.456708</td>\n",
       "      <td>118.952434</td>\n",
       "    </tr>\n",
       "    <tr>\n",
       "      <th>2021-03-26</th>\n",
       "      <td>121.394533</td>\n",
       "      <td>118.492143</td>\n",
       "      <td>125.119173</td>\n",
       "      <td>116.363405</td>\n",
       "      <td>119.929145</td>\n",
       "      <td>118.223955</td>\n",
       "      <td>120.813379</td>\n",
       "      <td>126.213264</td>\n",
       "      <td>115.289802</td>\n",
       "      <td>121.865000</td>\n",
       "      <td>...</td>\n",
       "      <td>119.738400</td>\n",
       "      <td>121.973392</td>\n",
       "      <td>122.449736</td>\n",
       "      <td>115.075164</td>\n",
       "      <td>116.384878</td>\n",
       "      <td>120.646819</td>\n",
       "      <td>119.334735</td>\n",
       "      <td>118.731917</td>\n",
       "      <td>121.815894</td>\n",
       "      <td>117.952849</td>\n",
       "    </tr>\n",
       "    <tr>\n",
       "      <th>2021-03-27</th>\n",
       "      <td>121.089004</td>\n",
       "      <td>119.511759</td>\n",
       "      <td>127.296527</td>\n",
       "      <td>116.097528</td>\n",
       "      <td>117.868800</td>\n",
       "      <td>123.524235</td>\n",
       "      <td>120.010058</td>\n",
       "      <td>130.473349</td>\n",
       "      <td>115.453010</td>\n",
       "      <td>118.709390</td>\n",
       "      <td>...</td>\n",
       "      <td>122.614312</td>\n",
       "      <td>122.975335</td>\n",
       "      <td>123.766355</td>\n",
       "      <td>116.088847</td>\n",
       "      <td>115.290502</td>\n",
       "      <td>126.397688</td>\n",
       "      <td>117.380249</td>\n",
       "      <td>118.665485</td>\n",
       "      <td>121.226609</td>\n",
       "      <td>118.576959</td>\n",
       "    </tr>\n",
       "    <tr>\n",
       "      <th>2021-03-28</th>\n",
       "      <td>119.215720</td>\n",
       "      <td>120.793740</td>\n",
       "      <td>128.918039</td>\n",
       "      <td>113.786278</td>\n",
       "      <td>118.792785</td>\n",
       "      <td>122.080414</td>\n",
       "      <td>122.510115</td>\n",
       "      <td>127.476026</td>\n",
       "      <td>113.724255</td>\n",
       "      <td>119.481302</td>\n",
       "      <td>...</td>\n",
       "      <td>118.829703</td>\n",
       "      <td>121.526143</td>\n",
       "      <td>126.011018</td>\n",
       "      <td>115.326714</td>\n",
       "      <td>116.555317</td>\n",
       "      <td>128.339223</td>\n",
       "      <td>120.063467</td>\n",
       "      <td>116.636395</td>\n",
       "      <td>119.625661</td>\n",
       "      <td>118.529658</td>\n",
       "    </tr>\n",
       "    <tr>\n",
       "      <th>2021-03-29</th>\n",
       "      <td>120.967255</td>\n",
       "      <td>121.441357</td>\n",
       "      <td>127.215194</td>\n",
       "      <td>114.066755</td>\n",
       "      <td>119.647240</td>\n",
       "      <td>122.920885</td>\n",
       "      <td>126.861968</td>\n",
       "      <td>125.388015</td>\n",
       "      <td>112.473651</td>\n",
       "      <td>126.128036</td>\n",
       "      <td>...</td>\n",
       "      <td>118.866030</td>\n",
       "      <td>121.690325</td>\n",
       "      <td>127.963556</td>\n",
       "      <td>117.635040</td>\n",
       "      <td>115.318468</td>\n",
       "      <td>128.319812</td>\n",
       "      <td>127.007093</td>\n",
       "      <td>117.400872</td>\n",
       "      <td>122.621143</td>\n",
       "      <td>118.371347</td>\n",
       "    </tr>\n",
       "    <tr>\n",
       "      <th>2021-03-30</th>\n",
       "      <td>121.733046</td>\n",
       "      <td>123.975537</td>\n",
       "      <td>132.885014</td>\n",
       "      <td>112.495520</td>\n",
       "      <td>123.925556</td>\n",
       "      <td>125.598467</td>\n",
       "      <td>126.819001</td>\n",
       "      <td>128.446495</td>\n",
       "      <td>116.182250</td>\n",
       "      <td>122.150348</td>\n",
       "      <td>...</td>\n",
       "      <td>123.325625</td>\n",
       "      <td>115.903247</td>\n",
       "      <td>128.795303</td>\n",
       "      <td>117.795832</td>\n",
       "      <td>115.441690</td>\n",
       "      <td>129.148932</td>\n",
       "      <td>131.438929</td>\n",
       "      <td>115.917894</td>\n",
       "      <td>124.073979</td>\n",
       "      <td>116.818634</td>\n",
       "    </tr>\n",
       "    <tr>\n",
       "      <th>2021-03-31</th>\n",
       "      <td>120.847231</td>\n",
       "      <td>122.207838</td>\n",
       "      <td>136.683178</td>\n",
       "      <td>113.367730</td>\n",
       "      <td>121.898425</td>\n",
       "      <td>125.810486</td>\n",
       "      <td>120.557196</td>\n",
       "      <td>131.782544</td>\n",
       "      <td>118.144497</td>\n",
       "      <td>124.489169</td>\n",
       "      <td>...</td>\n",
       "      <td>119.719419</td>\n",
       "      <td>115.471395</td>\n",
       "      <td>131.308982</td>\n",
       "      <td>116.131586</td>\n",
       "      <td>116.384976</td>\n",
       "      <td>127.048199</td>\n",
       "      <td>129.061030</td>\n",
       "      <td>118.581459</td>\n",
       "      <td>123.027895</td>\n",
       "      <td>118.496534</td>\n",
       "    </tr>\n",
       "    <tr>\n",
       "      <th>2021-04-01</th>\n",
       "      <td>124.539394</td>\n",
       "      <td>123.084128</td>\n",
       "      <td>138.232424</td>\n",
       "      <td>115.609573</td>\n",
       "      <td>122.145888</td>\n",
       "      <td>128.489606</td>\n",
       "      <td>123.344123</td>\n",
       "      <td>131.422793</td>\n",
       "      <td>120.498126</td>\n",
       "      <td>124.991371</td>\n",
       "      <td>...</td>\n",
       "      <td>120.256617</td>\n",
       "      <td>116.119765</td>\n",
       "      <td>136.022889</td>\n",
       "      <td>119.701136</td>\n",
       "      <td>115.738852</td>\n",
       "      <td>127.275376</td>\n",
       "      <td>127.577777</td>\n",
       "      <td>116.397367</td>\n",
       "      <td>119.330111</td>\n",
       "      <td>118.793257</td>\n",
       "    </tr>\n",
       "    <tr>\n",
       "      <th>2021-04-02</th>\n",
       "      <td>124.111713</td>\n",
       "      <td>127.040416</td>\n",
       "      <td>137.999226</td>\n",
       "      <td>116.466692</td>\n",
       "      <td>117.895035</td>\n",
       "      <td>128.751350</td>\n",
       "      <td>126.435288</td>\n",
       "      <td>131.085942</td>\n",
       "      <td>119.840796</td>\n",
       "      <td>126.382772</td>\n",
       "      <td>...</td>\n",
       "      <td>121.747969</td>\n",
       "      <td>115.669650</td>\n",
       "      <td>134.612836</td>\n",
       "      <td>125.971157</td>\n",
       "      <td>116.287354</td>\n",
       "      <td>127.723242</td>\n",
       "      <td>132.176709</td>\n",
       "      <td>115.754123</td>\n",
       "      <td>114.156741</td>\n",
       "      <td>119.422798</td>\n",
       "    </tr>\n",
       "    <tr>\n",
       "      <th>2021-04-03</th>\n",
       "      <td>119.702423</td>\n",
       "      <td>125.166900</td>\n",
       "      <td>141.628896</td>\n",
       "      <td>120.417561</td>\n",
       "      <td>116.718740</td>\n",
       "      <td>129.491338</td>\n",
       "      <td>124.734287</td>\n",
       "      <td>132.370125</td>\n",
       "      <td>119.174099</td>\n",
       "      <td>124.137986</td>\n",
       "      <td>...</td>\n",
       "      <td>121.130810</td>\n",
       "      <td>112.951251</td>\n",
       "      <td>134.315311</td>\n",
       "      <td>127.089460</td>\n",
       "      <td>114.321145</td>\n",
       "      <td>127.769391</td>\n",
       "      <td>136.852423</td>\n",
       "      <td>116.604191</td>\n",
       "      <td>115.685408</td>\n",
       "      <td>117.621514</td>\n",
       "    </tr>\n",
       "  </tbody>\n",
       "</table>\n",
       "<p>10 rows × 100 columns</p>\n",
       "</div>"
      ],
      "text/plain": [
       "                    0           1           2           3           4   \\\n",
       "2021-03-25  117.668854  116.246409  122.756029  118.545745  117.635591   \n",
       "2021-03-26  121.394533  118.492143  125.119173  116.363405  119.929145   \n",
       "2021-03-27  121.089004  119.511759  127.296527  116.097528  117.868800   \n",
       "2021-03-28  119.215720  120.793740  128.918039  113.786278  118.792785   \n",
       "2021-03-29  120.967255  121.441357  127.215194  114.066755  119.647240   \n",
       "2021-03-30  121.733046  123.975537  132.885014  112.495520  123.925556   \n",
       "2021-03-31  120.847231  122.207838  136.683178  113.367730  121.898425   \n",
       "2021-04-01  124.539394  123.084128  138.232424  115.609573  122.145888   \n",
       "2021-04-02  124.111713  127.040416  137.999226  116.466692  117.895035   \n",
       "2021-04-03  119.702423  125.166900  141.628896  120.417561  116.718740   \n",
       "\n",
       "                    5           6           7           8           9   ...  \\\n",
       "2021-03-25  120.915120  120.760375  123.856504  118.496759  120.937483  ...   \n",
       "2021-03-26  118.223955  120.813379  126.213264  115.289802  121.865000  ...   \n",
       "2021-03-27  123.524235  120.010058  130.473349  115.453010  118.709390  ...   \n",
       "2021-03-28  122.080414  122.510115  127.476026  113.724255  119.481302  ...   \n",
       "2021-03-29  122.920885  126.861968  125.388015  112.473651  126.128036  ...   \n",
       "2021-03-30  125.598467  126.819001  128.446495  116.182250  122.150348  ...   \n",
       "2021-03-31  125.810486  120.557196  131.782544  118.144497  124.489169  ...   \n",
       "2021-04-01  128.489606  123.344123  131.422793  120.498126  124.991371  ...   \n",
       "2021-04-02  128.751350  126.435288  131.085942  119.840796  126.382772  ...   \n",
       "2021-04-03  129.491338  124.734287  132.370125  119.174099  124.137986  ...   \n",
       "\n",
       "                    90          91          92          93          94  \\\n",
       "2021-03-25  120.811570  120.775132  120.575836  115.717069  119.327127   \n",
       "2021-03-26  119.738400  121.973392  122.449736  115.075164  116.384878   \n",
       "2021-03-27  122.614312  122.975335  123.766355  116.088847  115.290502   \n",
       "2021-03-28  118.829703  121.526143  126.011018  115.326714  116.555317   \n",
       "2021-03-29  118.866030  121.690325  127.963556  117.635040  115.318468   \n",
       "2021-03-30  123.325625  115.903247  128.795303  117.795832  115.441690   \n",
       "2021-03-31  119.719419  115.471395  131.308982  116.131586  116.384976   \n",
       "2021-04-01  120.256617  116.119765  136.022889  119.701136  115.738852   \n",
       "2021-04-02  121.747969  115.669650  134.612836  125.971157  116.287354   \n",
       "2021-04-03  121.130810  112.951251  134.315311  127.089460  114.321145   \n",
       "\n",
       "                    95          96          97          98          99  \n",
       "2021-03-25  119.686818  118.940984  119.638752  120.456708  118.952434  \n",
       "2021-03-26  120.646819  119.334735  118.731917  121.815894  117.952849  \n",
       "2021-03-27  126.397688  117.380249  118.665485  121.226609  118.576959  \n",
       "2021-03-28  128.339223  120.063467  116.636395  119.625661  118.529658  \n",
       "2021-03-29  128.319812  127.007093  117.400872  122.621143  118.371347  \n",
       "2021-03-30  129.148932  131.438929  115.917894  124.073979  116.818634  \n",
       "2021-03-31  127.048199  129.061030  118.581459  123.027895  118.496534  \n",
       "2021-04-01  127.275376  127.577777  116.397367  119.330111  118.793257  \n",
       "2021-04-02  127.723242  132.176709  115.754123  114.156741  119.422798  \n",
       "2021-04-03  127.769391  136.852423  116.604191  115.685408  117.621514  \n",
       "\n",
       "[10 rows x 100 columns]"
      ]
     },
     "execution_count": 26,
     "metadata": {},
     "output_type": "execute_result"
    }
   ],
   "source": [
    "AAPL=data['AAPL'][-1]*(simAAPL+1).cumprod()\n",
    "AAPL.head(10)"
   ]
  },
  {
   "cell_type": "markdown",
   "metadata": {},
   "source": [
    "## 4. Probabilidad Precio-Umbral\n",
    "\n",
    "Ya que tenemos muchos escenarios de precios proyectados, podemos ver varias cosas. Por ejemplo, ¿cuál es la probabilidad de que el precio de cierre sobrepase algún valor umbral en algún momento?"
   ]
  },
  {
   "cell_type": "code",
   "execution_count": 25,
   "metadata": {},
   "outputs": [
    {
     "data": {
      "text/plain": [
       "144.10799560546874"
      ]
     },
     "execution_count": 25,
     "metadata": {},
     "output_type": "execute_result"
    }
   ],
   "source": [
    "Umbral=data['AAPL'][-1]*1.2 # Retorno del 20%\n",
    "Umbral"
   ]
  },
  {
   "cell_type": "code",
   "execution_count": 30,
   "metadata": {},
   "outputs": [
    {
     "data": {
      "text/html": [
       "<div>\n",
       "<style scoped>\n",
       "    .dataframe tbody tr th:only-of-type {\n",
       "        vertical-align: middle;\n",
       "    }\n",
       "\n",
       "    .dataframe tbody tr th {\n",
       "        vertical-align: top;\n",
       "    }\n",
       "\n",
       "    .dataframe thead th {\n",
       "        text-align: right;\n",
       "    }\n",
       "</style>\n",
       "<table border=\"1\" class=\"dataframe\">\n",
       "  <thead>\n",
       "    <tr style=\"text-align: right;\">\n",
       "      <th></th>\n",
       "      <th>0</th>\n",
       "      <th>1</th>\n",
       "      <th>2</th>\n",
       "      <th>3</th>\n",
       "      <th>4</th>\n",
       "      <th>5</th>\n",
       "      <th>6</th>\n",
       "      <th>7</th>\n",
       "      <th>8</th>\n",
       "      <th>9</th>\n",
       "      <th>...</th>\n",
       "      <th>91</th>\n",
       "      <th>92</th>\n",
       "      <th>93</th>\n",
       "      <th>94</th>\n",
       "      <th>95</th>\n",
       "      <th>96</th>\n",
       "      <th>97</th>\n",
       "      <th>98</th>\n",
       "      <th>99</th>\n",
       "      <th>Umbral</th>\n",
       "    </tr>\n",
       "  </thead>\n",
       "  <tbody>\n",
       "    <tr>\n",
       "      <th>2021-03-25</th>\n",
       "      <td>117.668854</td>\n",
       "      <td>116.246409</td>\n",
       "      <td>122.756029</td>\n",
       "      <td>118.545745</td>\n",
       "      <td>117.635591</td>\n",
       "      <td>120.915120</td>\n",
       "      <td>120.760375</td>\n",
       "      <td>123.856504</td>\n",
       "      <td>118.496759</td>\n",
       "      <td>120.937483</td>\n",
       "      <td>...</td>\n",
       "      <td>120.775132</td>\n",
       "      <td>120.575836</td>\n",
       "      <td>115.717069</td>\n",
       "      <td>119.327127</td>\n",
       "      <td>119.686818</td>\n",
       "      <td>118.940984</td>\n",
       "      <td>119.638752</td>\n",
       "      <td>120.456708</td>\n",
       "      <td>118.952434</td>\n",
       "      <td>144.107996</td>\n",
       "    </tr>\n",
       "    <tr>\n",
       "      <th>2021-03-26</th>\n",
       "      <td>121.394533</td>\n",
       "      <td>118.492143</td>\n",
       "      <td>125.119173</td>\n",
       "      <td>116.363405</td>\n",
       "      <td>119.929145</td>\n",
       "      <td>118.223955</td>\n",
       "      <td>120.813379</td>\n",
       "      <td>126.213264</td>\n",
       "      <td>115.289802</td>\n",
       "      <td>121.865000</td>\n",
       "      <td>...</td>\n",
       "      <td>121.973392</td>\n",
       "      <td>122.449736</td>\n",
       "      <td>115.075164</td>\n",
       "      <td>116.384878</td>\n",
       "      <td>120.646819</td>\n",
       "      <td>119.334735</td>\n",
       "      <td>118.731917</td>\n",
       "      <td>121.815894</td>\n",
       "      <td>117.952849</td>\n",
       "      <td>144.107996</td>\n",
       "    </tr>\n",
       "    <tr>\n",
       "      <th>2021-03-27</th>\n",
       "      <td>121.089004</td>\n",
       "      <td>119.511759</td>\n",
       "      <td>127.296527</td>\n",
       "      <td>116.097528</td>\n",
       "      <td>117.868800</td>\n",
       "      <td>123.524235</td>\n",
       "      <td>120.010058</td>\n",
       "      <td>130.473349</td>\n",
       "      <td>115.453010</td>\n",
       "      <td>118.709390</td>\n",
       "      <td>...</td>\n",
       "      <td>122.975335</td>\n",
       "      <td>123.766355</td>\n",
       "      <td>116.088847</td>\n",
       "      <td>115.290502</td>\n",
       "      <td>126.397688</td>\n",
       "      <td>117.380249</td>\n",
       "      <td>118.665485</td>\n",
       "      <td>121.226609</td>\n",
       "      <td>118.576959</td>\n",
       "      <td>144.107996</td>\n",
       "    </tr>\n",
       "    <tr>\n",
       "      <th>2021-03-28</th>\n",
       "      <td>119.215720</td>\n",
       "      <td>120.793740</td>\n",
       "      <td>128.918039</td>\n",
       "      <td>113.786278</td>\n",
       "      <td>118.792785</td>\n",
       "      <td>122.080414</td>\n",
       "      <td>122.510115</td>\n",
       "      <td>127.476026</td>\n",
       "      <td>113.724255</td>\n",
       "      <td>119.481302</td>\n",
       "      <td>...</td>\n",
       "      <td>121.526143</td>\n",
       "      <td>126.011018</td>\n",
       "      <td>115.326714</td>\n",
       "      <td>116.555317</td>\n",
       "      <td>128.339223</td>\n",
       "      <td>120.063467</td>\n",
       "      <td>116.636395</td>\n",
       "      <td>119.625661</td>\n",
       "      <td>118.529658</td>\n",
       "      <td>144.107996</td>\n",
       "    </tr>\n",
       "    <tr>\n",
       "      <th>2021-03-29</th>\n",
       "      <td>120.967255</td>\n",
       "      <td>121.441357</td>\n",
       "      <td>127.215194</td>\n",
       "      <td>114.066755</td>\n",
       "      <td>119.647240</td>\n",
       "      <td>122.920885</td>\n",
       "      <td>126.861968</td>\n",
       "      <td>125.388015</td>\n",
       "      <td>112.473651</td>\n",
       "      <td>126.128036</td>\n",
       "      <td>...</td>\n",
       "      <td>121.690325</td>\n",
       "      <td>127.963556</td>\n",
       "      <td>117.635040</td>\n",
       "      <td>115.318468</td>\n",
       "      <td>128.319812</td>\n",
       "      <td>127.007093</td>\n",
       "      <td>117.400872</td>\n",
       "      <td>122.621143</td>\n",
       "      <td>118.371347</td>\n",
       "      <td>144.107996</td>\n",
       "    </tr>\n",
       "  </tbody>\n",
       "</table>\n",
       "<p>5 rows × 101 columns</p>\n",
       "</div>"
      ],
      "text/plain": [
       "                     0           1           2           3           4  \\\n",
       "2021-03-25  117.668854  116.246409  122.756029  118.545745  117.635591   \n",
       "2021-03-26  121.394533  118.492143  125.119173  116.363405  119.929145   \n",
       "2021-03-27  121.089004  119.511759  127.296527  116.097528  117.868800   \n",
       "2021-03-28  119.215720  120.793740  128.918039  113.786278  118.792785   \n",
       "2021-03-29  120.967255  121.441357  127.215194  114.066755  119.647240   \n",
       "\n",
       "                     5           6           7           8           9  ...  \\\n",
       "2021-03-25  120.915120  120.760375  123.856504  118.496759  120.937483  ...   \n",
       "2021-03-26  118.223955  120.813379  126.213264  115.289802  121.865000  ...   \n",
       "2021-03-27  123.524235  120.010058  130.473349  115.453010  118.709390  ...   \n",
       "2021-03-28  122.080414  122.510115  127.476026  113.724255  119.481302  ...   \n",
       "2021-03-29  122.920885  126.861968  125.388015  112.473651  126.128036  ...   \n",
       "\n",
       "                    91          92          93          94          95  \\\n",
       "2021-03-25  120.775132  120.575836  115.717069  119.327127  119.686818   \n",
       "2021-03-26  121.973392  122.449736  115.075164  116.384878  120.646819   \n",
       "2021-03-27  122.975335  123.766355  116.088847  115.290502  126.397688   \n",
       "2021-03-28  121.526143  126.011018  115.326714  116.555317  128.339223   \n",
       "2021-03-29  121.690325  127.963556  117.635040  115.318468  128.319812   \n",
       "\n",
       "                    96          97          98          99      Umbral  \n",
       "2021-03-25  118.940984  119.638752  120.456708  118.952434  144.107996  \n",
       "2021-03-26  119.334735  118.731917  121.815894  117.952849  144.107996  \n",
       "2021-03-27  117.380249  118.665485  121.226609  118.576959  144.107996  \n",
       "2021-03-28  120.063467  116.636395  119.625661  118.529658  144.107996  \n",
       "2021-03-29  127.007093  117.400872  122.621143  118.371347  144.107996  \n",
       "\n",
       "[5 rows x 101 columns]"
      ]
     },
     "execution_count": 30,
     "metadata": {},
     "output_type": "execute_result"
    }
   ],
   "source": [
    "#AAPL.plot(grid=True,legend=False)\n",
    "rango=pd.date_range('2021-03-25',periods=365)\n",
    "Umbral_DF=pd.DataFrame(data=np.ones(365)*Umbral,index=rango,columns=['Umbral'])\n",
    "#Umbral_DF.plot(color='k')\n",
    "AAPL_Umbral=pd.concat([AAPL,Umbral_DF],axis=1)\n",
    "AAPL_Umbral.head()"
   ]
  },
  {
   "cell_type": "code",
   "execution_count": 32,
   "metadata": {},
   "outputs": [
    {
     "data": {
      "text/plain": [
       "<matplotlib.axes._subplots.AxesSubplot at 0xceeeca56a0>"
      ]
     },
     "execution_count": 32,
     "metadata": {},
     "output_type": "execute_result"
    },
    {
     "data": {
      "image/png": "[encoded data removed]",
      "text/plain": [
       "<Figure size 432x288 with 1 Axes>"
      ]
     },
     "metadata": {
      "needs_background": "light"
     },
     "output_type": "display_data"
    }
   ],
   "source": [
    "AAPL_Umbral.plot(legend=False,grid=True)"
   ]
  },
  {
   "cell_type": "code",
   "execution_count": 34,
   "metadata": {},
   "outputs": [
    {
     "data": {
      "text/plain": [
       "<matplotlib.axes._subplots.AxesSubplot at 0xceef257d68>"
      ]
     },
     "execution_count": 34,
     "metadata": {},
     "output_type": "execute_result"
    },
    {
     "data": {
      "image/png": "[encoded data removed]",
      "text/plain": [
       "<Figure size 432x288 with 1 Axes>"
      ]
     },
     "metadata": {
      "needs_background": "light"
     },
     "output_type": "display_data"
    }
   ],
   "source": [
    "Prob=AAPL>Umbral\n",
    "pd.DataFrame(data=np.mean(Prob,axis=1)).plot(grid=True)"
   ]
  },
  {
   "cell_type": "code",
   "execution_count": 35,
   "metadata": {},
   "outputs": [
    {
     "data": {
      "text/plain": [
       "<matplotlib.axes._subplots.AxesSubplot at 0xceeec9dc18>"
      ]
     },
     "execution_count": 35,
     "metadata": {},
     "output_type": "execute_result"
    },
    {
     "data": {
      "image/png": "[encoded data removed]",
      "text/plain": [
       "<Figure size 432x288 with 1 Axes>"
      ]
     },
     "metadata": {
      "needs_background": "light"
     },
     "output_type": "display_data"
    }
   ],
   "source": [
    "Prob.mean(axis=1).plot(grid=True)"
   ]
  },
  {
   "cell_type": "markdown",
   "metadata": {},
   "source": [
    "___\n",
    "Entonces, ya aprendimos a bajar datos con pandas-datareader. En específico, a partir de los precios de cierre ajustados obtuvimos los rendimientos diarios.\n",
    "\n",
    "Suponiendo que los rendimientos diarios son un proceso estocástico estacionario de distribución normal, pudimos caracaterizarlo y proyectar varios escenarios de evolución de los precios (montecarlo).\n",
    "\n",
    "Con estas proyecciones pudimos calcular probabilidades de sobrepasar cierto precio umbral: toma de decisiones."
   ]
  }
 ],
 "metadata": {
  "kernelspec": {
   "display_name": "Python 3",
   "language": "python",
   "name": "python3"
  },
  "language_info": {
   "codemirror_mode": {
    "name": "ipython",
    "version": 3
   },
   "file_extension": ".py",
   "mimetype": "text/x-python",
   "name": "python",
   "nbconvert_exporter": "python",
   "pygments_lexer": "ipython3",
   "version": "3.7.3"
  }
 },
 "nbformat": 4,
 "nbformat_minor": 2
}
