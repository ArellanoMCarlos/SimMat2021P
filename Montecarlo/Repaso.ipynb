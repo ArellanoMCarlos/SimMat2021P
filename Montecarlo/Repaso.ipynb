{
 "cells": [
  {
   "cell_type": "markdown",
   "metadata": {},
   "source": [
    "# Repaso - Módulo 2"
   ]
  },
  {
   "cell_type": "markdown",
   "metadata": {},
   "source": [
    "---\n",
    "## Problema 1.1. Evaluación numérica de integrales utilizando Montecarlo\n",
    "\n",
    "- En la clase de evaluación de integrales numéricas por montecarlo vimos dos tipos de evaluación de integrales.\n",
    "- El tipo 1 se basaba en la definición de valor promedio de una función.\n",
    "- El tipo 2 se basaba en probabilidades y una variable aleatoria de bernoulli (para encontrar áreas).\n",
    "\n",
    "    En clase desarrollamos funciones para la evaluación de integrales con ambos métodos. Explique por qué en el segundo método, el promedio del conjunto de variables aleatorias de Bernoulli $B=\\{X_i\\}$, se puede ver como una integral."
   ]
  },
  {
   "cell_type": "code",
   "execution_count": null,
   "metadata": {},
   "outputs": [],
   "source": []
  },
  {
   "cell_type": "markdown",
   "metadata": {},
   "source": [
    "Escriba la función para integrar por el método Montecarlo de tipo 1"
   ]
  },
  {
   "cell_type": "code",
   "execution_count": 2,
   "metadata": {},
   "outputs": [],
   "source": [
    "import numpy as np\n",
    "import matplotlib.pyplot as plt"
   ]
  },
  {
   "cell_type": "code",
   "execution_count": 9,
   "metadata": {},
   "outputs": [],
   "source": [
    "import pandas as pd"
   ]
  },
  {
   "cell_type": "code",
   "execution_count": 1,
   "metadata": {},
   "outputs": [],
   "source": [
    "def montecarlo1(f,xmax,xmin,N):\n",
    "    x=np.random.uniform(xmin,xmax,N)\n",
    "    return (xmax-xmin)*np.mean(f(x))"
   ]
  },
  {
   "cell_type": "markdown",
   "metadata": {
    "collapsed": true
   },
   "source": [
    "Considere las funciones $f_1(x)=\\sqrt{1+x^{4}}$, $f_2(x)=\\ln(\\ln x)$, $f_3(x)=\\frac {1}{\\ln x}$, y $f_4(x)=e^{-{\\frac {x^{2}}{2}}}$.\n",
    "\n",
    "Utilizar la función anterior para realizar la evaluación numérica de las integrales de las funciones anteriores en el intervalo $(4,5)$. Poner los resultados en una tabla cuyas filas correspondan a la cantidad de términos utilizados en la aproximación (usar 10, 100, 1000, 10000 y 100000 términos) y cuyas columnas correspondan a las funciones."
   ]
  },
  {
   "cell_type": "code",
   "execution_count": 3,
   "metadata": {},
   "outputs": [
    {
     "data": {
      "text/plain": [
       "array([    10,    100,   1000,  10000, 100000])"
      ]
     },
     "execution_count": 3,
     "metadata": {},
     "output_type": "execute_result"
    }
   ],
   "source": [
    "N=np.logspace(1,5,5)\n",
    "N=N.astype(int)\n",
    "N"
   ]
  },
  {
   "cell_type": "markdown",
   "metadata": {},
   "source": [
    "Definición tentativa de cadena de funciones\n",
    "```python\n",
    "def f1(x):\n",
    "    return np.sqrt(1+x**4)\n",
    "...\n",
    "\n",
    "funciones=[f1,f2,f3,f4]\n",
    "```"
   ]
  },
  {
   "cell_type": "code",
   "execution_count": 19,
   "metadata": {},
   "outputs": [],
   "source": [
    "funciones={'f1':lambda x:np.sqrt(1+x**4),\n",
    "           'f2':lambda x:np.log(np.log(x)),\n",
    "           'f3':lambda x:1/np.log(x),\n",
    "           'f4':lambda x:np.exp(-x**2/2),\n",
    "          'f5':lambda x:np.sin(x)/x}"
   ]
  },
  {
   "cell_type": "code",
   "execution_count": 8,
   "metadata": {},
   "outputs": [
    {
     "data": {
      "text/plain": [
       "0.47588499532711054"
      ]
     },
     "execution_count": 8,
     "metadata": {},
     "output_type": "execute_result"
    }
   ],
   "source": [
    "funciones['f2'](5)"
   ]
  },
  {
   "cell_type": "code",
   "execution_count": 14,
   "metadata": {},
   "outputs": [
    {
     "name": "stdout",
     "output_type": "stream",
     "text": [
      "<function <lambda> at 0x00000017CC0A6048>\n",
      "<function <lambda> at 0x00000017CC0A67B8>\n",
      "<function <lambda> at 0x00000017CC0A6730>\n",
      "<function <lambda> at 0x00000017CC0A66A8>\n"
     ]
    }
   ],
   "source": [
    "#funciones.keys()  ->  'f1','f2',...\n",
    "#funciones.items()  ->  ('f1',lambda f1)\n",
    "for f in funciones: # for f in funciones.keys()\n",
    "    print(funciones[f])"
   ]
  },
  {
   "cell_type": "code",
   "execution_count": 20,
   "metadata": {},
   "outputs": [
    {
     "data": {
      "text/html": [
       "<div>\n",
       "<style scoped>\n",
       "    .dataframe tbody tr th:only-of-type {\n",
       "        vertical-align: middle;\n",
       "    }\n",
       "\n",
       "    .dataframe tbody tr th {\n",
       "        vertical-align: top;\n",
       "    }\n",
       "\n",
       "    .dataframe thead th {\n",
       "        text-align: right;\n",
       "    }\n",
       "</style>\n",
       "<table border=\"1\" class=\"dataframe\">\n",
       "  <thead>\n",
       "    <tr style=\"text-align: right;\">\n",
       "      <th></th>\n",
       "      <th>f1</th>\n",
       "      <th>f2</th>\n",
       "      <th>f3</th>\n",
       "      <th>f4</th>\n",
       "      <th>f5</th>\n",
       "    </tr>\n",
       "  </thead>\n",
       "  <tbody>\n",
       "    <tr>\n",
       "      <th>10</th>\n",
       "      <td>20.0523</td>\n",
       "      <td>0.400649</td>\n",
       "      <td>0.667325</td>\n",
       "      <td>0.000114321</td>\n",
       "      <td>-0.213045</td>\n",
       "    </tr>\n",
       "    <tr>\n",
       "      <th>100</th>\n",
       "      <td>19.6873</td>\n",
       "      <td>0.40574</td>\n",
       "      <td>0.66772</td>\n",
       "      <td>5.64459e-05</td>\n",
       "      <td>-0.208282</td>\n",
       "    </tr>\n",
       "    <tr>\n",
       "      <th>1000</th>\n",
       "      <td>20.3353</td>\n",
       "      <td>0.406234</td>\n",
       "      <td>0.665757</td>\n",
       "      <td>8.01866e-05</td>\n",
       "      <td>-0.208478</td>\n",
       "    </tr>\n",
       "    <tr>\n",
       "      <th>10000</th>\n",
       "      <td>20.3774</td>\n",
       "      <td>0.405287</td>\n",
       "      <td>0.666837</td>\n",
       "      <td>7.7072e-05</td>\n",
       "      <td>-0.208248</td>\n",
       "    </tr>\n",
       "    <tr>\n",
       "      <th>100000</th>\n",
       "      <td>20.3483</td>\n",
       "      <td>0.405791</td>\n",
       "      <td>0.6671</td>\n",
       "      <td>7.86965e-05</td>\n",
       "      <td>-0.208239</td>\n",
       "    </tr>\n",
       "  </tbody>\n",
       "</table>\n",
       "</div>"
      ],
      "text/plain": [
       "             f1        f2        f3           f4        f5\n",
       "10      20.0523  0.400649  0.667325  0.000114321 -0.213045\n",
       "100     19.6873   0.40574   0.66772  5.64459e-05 -0.208282\n",
       "1000    20.3353  0.406234  0.665757  8.01866e-05 -0.208478\n",
       "10000   20.3774  0.405287  0.666837   7.7072e-05 -0.208248\n",
       "100000  20.3483  0.405791    0.6671  7.86965e-05 -0.208239"
      ]
     },
     "execution_count": 20,
     "metadata": {},
     "output_type": "execute_result"
    }
   ],
   "source": [
    "tabla=pd.DataFrame(index=N,columns=funciones.keys())\n",
    "for n in N:\n",
    "    for f in funciones:\n",
    "        #print(f)\n",
    "        tabla[f].loc[n]=montecarlo1(funciones[f],5,4,n)\n",
    "tabla"
   ]
  },
  {
   "cell_type": "markdown",
   "metadata": {},
   "source": [
    "## Problema 1.2.\n",
    "Aproximar el área de la región descrita por\n",
    "\n",
    "$$x^2+2y^2\\leq-2x+8y-7$$\n",
    "\n",
    "Poner los resultados en una tabla cuyas filas correspondan a la cantidad de términos utilizados en la aproximación (usar 10, 100, 1000, 10000 y 100000 términos) y en las columnas el valor de aproximación y el error de integración.\n",
    "\n",
    "Definir unos límites adecuados $a_1$, $b_1$, $a_2$ y $b_2$, para la región $R=\\left[a_1,b_1\\right]\\times\\left[a_2,b_2\\right]$ y grafíque esta región."
   ]
  },
  {
   "cell_type": "code",
   "execution_count": 24,
   "metadata": {},
   "outputs": [
    {
     "data": {
      "image/png": "[encoded data removed]",
      "text/plain": [
       "<Figure size 432x288 with 1 Axes>"
      ]
     },
     "metadata": {
      "needs_background": "light"
     },
     "output_type": "display_data"
    }
   ],
   "source": [
    "# límites en 'x'\n",
    "a1=-2.5\n",
    "b1=0.5\n",
    "\n",
    "# límites en 'y'\n",
    "a2=1\n",
    "b2=3\n",
    "\n",
    "# Graficamos la regióm\n",
    "# Primero definimos la región\n",
    "def reg(x,y):\n",
    "    return x**2+2*y**2<=-2*x+8*y-7\n",
    "# Ahora sí graficamos XD\n",
    "N=300\n",
    "x=np.random.uniform(a1,b1,N)\n",
    "y=np.random.uniform(a2,b2,N)\n",
    "X,Y=np.meshgrid(x,y)\n",
    "plt.scatter(X,Y,c=~reg(X,Y),cmap='gray',s=5)\n",
    "plt.grid('minor')"
   ]
  },
  {
   "cell_type": "markdown",
   "metadata": {},
   "source": [
    "Los límites encontrados para $x$ son:\n",
    "$$\n",
    "-2.5\\leq x \\leq 0.5\n",
    "$$\n",
    "Los límites encontrados para $y$ son:\n",
    "$$\n",
    "1\\leq y \\leq 3\n",
    "$$\n",
    "\n",
    "---"
   ]
  },
  {
   "cell_type": "markdown",
   "metadata": {},
   "source": [
    "Defina la función para resolver el área con el método 2 visto en clase"
   ]
  },
  {
   "cell_type": "code",
   "execution_count": 26,
   "metadata": {},
   "outputs": [],
   "source": [
    "def montecarlo2(reg,a1,b1,a2,b2,N):\n",
    "    x=np.random.uniform(a1,b1,N)\n",
    "    y=np.random.uniform(a2,b2,N)\n",
    "    AR=(b1-a1)*(b2-a2)\n",
    "    th=np.mean(reg(x,y))\n",
    "    err=np.sqrt((1-th)/(th))/np.sqrt(N)\n",
    "    return AR*th,err"
   ]
  },
  {
   "cell_type": "markdown",
   "metadata": {},
   "source": [
    "Encontrar el área con el número de términos deseados"
   ]
  },
  {
   "cell_type": "code",
   "execution_count": 27,
   "metadata": {},
   "outputs": [
    {
     "data": {
      "text/html": [
       "<div>\n",
       "<style scoped>\n",
       "    .dataframe tbody tr th:only-of-type {\n",
       "        vertical-align: middle;\n",
       "    }\n",
       "\n",
       "    .dataframe tbody tr th {\n",
       "        vertical-align: top;\n",
       "    }\n",
       "\n",
       "    .dataframe thead th {\n",
       "        text-align: right;\n",
       "    }\n",
       "</style>\n",
       "<table border=\"1\" class=\"dataframe\">\n",
       "  <thead>\n",
       "    <tr style=\"text-align: right;\">\n",
       "      <th></th>\n",
       "      <th>Integral</th>\n",
       "      <th>error</th>\n",
       "    </tr>\n",
       "  </thead>\n",
       "  <tbody>\n",
       "    <tr>\n",
       "      <th>10</th>\n",
       "      <td>3.6</td>\n",
       "      <td>0.258199</td>\n",
       "    </tr>\n",
       "    <tr>\n",
       "      <th>100</th>\n",
       "      <td>4.56</td>\n",
       "      <td>0.0561951</td>\n",
       "    </tr>\n",
       "    <tr>\n",
       "      <th>1000</th>\n",
       "      <td>4.428</td>\n",
       "      <td>0.0188418</td>\n",
       "    </tr>\n",
       "    <tr>\n",
       "      <th>10000</th>\n",
       "      <td>4.4214</td>\n",
       "      <td>0.00597525</td>\n",
       "    </tr>\n",
       "    <tr>\n",
       "      <th>100000</th>\n",
       "      <td>4.43988</td>\n",
       "      <td>0.00187453</td>\n",
       "    </tr>\n",
       "  </tbody>\n",
       "</table>\n",
       "</div>"
      ],
      "text/plain": [
       "       Integral       error\n",
       "10          3.6    0.258199\n",
       "100        4.56   0.0561951\n",
       "1000      4.428   0.0188418\n",
       "10000    4.4214  0.00597525\n",
       "100000  4.43988  0.00187453"
      ]
     },
     "execution_count": 27,
     "metadata": {},
     "output_type": "execute_result"
    }
   ],
   "source": [
    "N=np.logspace(1,5,5)\n",
    "N=N.astype(int)\n",
    "tabla=pd.DataFrame(index=N,columns=['Integral','error'])\n",
    "for n in N:\n",
    "    integral,err=montecarlo2(reg,a1,b1,a2,b2,n)\n",
    "    tabla['Integral'].loc[n]=integral\n",
    "    tabla['error'].loc[n]=err\n",
    "tabla"
   ]
  },
  {
   "cell_type": "markdown",
   "metadata": {},
   "source": [
    "---\n",
    "## Problema 2. Fractal aleatorio tipo Barnsley\n",
    "\n",
    "- En la clase de fractales aleatorios vimos que el fractal helecho de Barnsley se generaba a través de cuatro transformaciones afines que se elegían con cierta probabilidad.\n",
    "- Vimos que este helecho representaba de manera muy aproximada helechos reales.\n",
    "- Vimos que modificando parámetros de la tabla, se podían generar mutaciones de el helecho.\n",
    "\n",
    "Pues bien, usando la misma idea de transformaciones afines que se escogen con cierta probabilidad, se pueden generar una infinidad inimaginable de fractales. Incluso, se pueden generar fractales aleatorios que poseen un atractor determinístico.\n",
    "\n",
    "**Referencia:**\n",
    "- Barnsley, Michael F. *Fractals Everywhere: New Edition*, ISBN: 9780486320342."
   ]
  },
  {
   "cell_type": "markdown",
   "metadata": {},
   "source": [
    "Usando la siguiente tabla, evalúe el fractal de Barnsley para 100 000 puntos."
   ]
  },
  {
   "cell_type": "code",
   "execution_count": null,
   "metadata": {},
   "outputs": [],
   "source": [
    "import pandas as pd\n",
    "import numpy as np"
   ]
  },
  {
   "cell_type": "code",
   "execution_count": 28,
   "metadata": {},
   "outputs": [
    {
     "data": {
      "text/html": [
       "<div>\n",
       "<style scoped>\n",
       "    .dataframe tbody tr th:only-of-type {\n",
       "        vertical-align: middle;\n",
       "    }\n",
       "\n",
       "    .dataframe tbody tr th {\n",
       "        vertical-align: top;\n",
       "    }\n",
       "\n",
       "    .dataframe thead th {\n",
       "        text-align: right;\n",
       "    }\n",
       "</style>\n",
       "<table border=\"1\" class=\"dataframe\">\n",
       "  <thead>\n",
       "    <tr style=\"text-align: right;\">\n",
       "      <th></th>\n",
       "      <th>$a_i$</th>\n",
       "      <th>$b_i$</th>\n",
       "      <th>$c_i$</th>\n",
       "      <th>$d_i$</th>\n",
       "      <th>$e_i$</th>\n",
       "      <th>$f_i$</th>\n",
       "      <th>$p_i$</th>\n",
       "    </tr>\n",
       "    <tr>\n",
       "      <th>$i$</th>\n",
       "      <th></th>\n",
       "      <th></th>\n",
       "      <th></th>\n",
       "      <th></th>\n",
       "      <th></th>\n",
       "      <th></th>\n",
       "      <th></th>\n",
       "    </tr>\n",
       "  </thead>\n",
       "  <tbody>\n",
       "    <tr>\n",
       "      <th>0</th>\n",
       "      <td>0.5</td>\n",
       "      <td>0.0</td>\n",
       "      <td>0.0</td>\n",
       "      <td>0.5</td>\n",
       "      <td>1.0</td>\n",
       "      <td>1.0</td>\n",
       "      <td>0.1</td>\n",
       "    </tr>\n",
       "    <tr>\n",
       "      <th>1</th>\n",
       "      <td>0.5</td>\n",
       "      <td>0.0</td>\n",
       "      <td>0.0</td>\n",
       "      <td>0.5</td>\n",
       "      <td>50.0</td>\n",
       "      <td>1.0</td>\n",
       "      <td>0.2</td>\n",
       "    </tr>\n",
       "    <tr>\n",
       "      <th>2</th>\n",
       "      <td>0.5</td>\n",
       "      <td>0.0</td>\n",
       "      <td>0.0</td>\n",
       "      <td>0.5</td>\n",
       "      <td>1.0</td>\n",
       "      <td>50.0</td>\n",
       "      <td>0.3</td>\n",
       "    </tr>\n",
       "    <tr>\n",
       "      <th>3</th>\n",
       "      <td>0.5</td>\n",
       "      <td>0.0</td>\n",
       "      <td>0.0</td>\n",
       "      <td>0.5</td>\n",
       "      <td>50.0</td>\n",
       "      <td>50.0</td>\n",
       "      <td>0.4</td>\n",
       "    </tr>\n",
       "  </tbody>\n",
       "</table>\n",
       "</div>"
      ],
      "text/plain": [
       "     $a_i$  $b_i$  $c_i$  $d_i$  $e_i$  $f_i$  $p_i$\n",
       "$i$                                                 \n",
       "0      0.5    0.0    0.0    0.5    1.0    1.0    0.1\n",
       "1      0.5    0.0    0.0    0.5   50.0    1.0    0.2\n",
       "2      0.5    0.0    0.0    0.5    1.0   50.0    0.3\n",
       "3      0.5    0.0    0.0    0.5   50.0   50.0    0.4"
      ]
     },
     "execution_count": 28,
     "metadata": {},
     "output_type": "execute_result"
    }
   ],
   "source": [
    "i = np.arange(4)\n",
    "\n",
    "df = pd.DataFrame(index=i,columns=['$a_i$', '$b_i$', '$c_i$', '$d_i$', '$e_i$', '$f_i$', '$p_i$'], dtype='float')\n",
    "df.index.name = \"$i$\"\n",
    "\n",
    "df['$a_i$'] = [0.5, 0.5, 0.5, 0.5]\n",
    "df['$b_i$'] = [0.0, 0.0, 0.0, 0.0]\n",
    "df['$c_i$'] = [0.0, 0.0, 0.0, 0.0]\n",
    "df['$d_i$'] = [0.5, 0.5, 0.5, 0.5]\n",
    "df['$e_i$'] = [1.0, 50.0, 1.0, 50.0]\n",
    "df['$f_i$'] = [1.0, 1.0, 50.0, 50.0]\n",
    "df['$p_i$'] = [0.1, 0.2, 0.3, 0.4]\n",
    "\n",
    "df.round(2)"
   ]
  },
  {
   "cell_type": "code",
   "execution_count": 31,
   "metadata": {},
   "outputs": [
    {
     "data": {
      "text/plain": [
       "<matplotlib.collections.PathCollection at 0x17d10f3860>"
      ]
     },
     "execution_count": 31,
     "metadata": {},
     "output_type": "execute_result"
    },
    {
     "data": {
      "image/png": "[encoded data removed]",
      "text/plain": [
       "<Figure size 432x288 with 1 Axes>"
      ]
     },
     "metadata": {
      "needs_background": "light"
     },
     "output_type": "display_data"
    }
   ],
   "source": [
    "x=[0]\n",
    "y=[0]\n",
    "N=10**4\n",
    "selector=df.index\n",
    "for k in range(N):\n",
    "    i=np.random.choice(selector,p=df['$p_i$'])\n",
    "    a=df['$a_i$'][i]\n",
    "    b=df['$b_i$'][i]\n",
    "    c=df['$c_i$'][i]\n",
    "    d=df['$d_i$'][i]\n",
    "    e=df['$e_i$'][i]\n",
    "    f=df['$f_i$'][i]\n",
    "    x.append(a*x[-1]+b*y[-1]+e)\n",
    "    y.append(c*x[-2]+d*y[-1]+f)\n",
    "plt.scatter(x,y,c='k',s=5)"
   ]
  },
  {
   "cell_type": "markdown",
   "metadata": {},
   "source": [
    "---\n",
    "## Problema 3. Probabilidad Precio-Umbral\n",
    "\n",
    "En las últimas clases vimos una aplicación de simulación montecarlo. Consistía en descargar datos históricos de precio de cierre de acciones de alguna compañía, proyectar esos precios y sacar la probabilidad de que los precios en el siguiente año sobrepasaran cierto precio umbral.\n",
    "\n",
    "En este ejemplo evaluaremos dos compañías con tendencias más o menos similares (Apple y Microsoft) veremos cuál tiene más probabilidades de darnos un interés deseado.\n",
    "\n",
    "Además, descargaremos los datos del año 2020 para ver si el análisis concuerda."
   ]
  },
  {
   "cell_type": "markdown",
   "metadata": {},
   "source": [
    "Descargue datos para Apple y Microsoft desde enero de 2015 a diciembre de 2019 y muestre sus gráficas."
   ]
  },
  {
   "cell_type": "code",
   "execution_count": 33,
   "metadata": {},
   "outputs": [],
   "source": [
    "#pd.read_csv('archivo')\n",
    "#pd.read_excel?\n",
    "#('archivo.odt')"
   ]
  },
  {
   "cell_type": "code",
   "execution_count": 35,
   "metadata": {},
   "outputs": [],
   "source": [
    "import pandas_datareader.data as web"
   ]
  },
  {
   "cell_type": "code",
   "execution_count": 36,
   "metadata": {},
   "outputs": [
    {
     "data": {
      "text/html": [
       "<div>\n",
       "<style scoped>\n",
       "    .dataframe tbody tr th:only-of-type {\n",
       "        vertical-align: middle;\n",
       "    }\n",
       "\n",
       "    .dataframe tbody tr th {\n",
       "        vertical-align: top;\n",
       "    }\n",
       "\n",
       "    .dataframe thead th {\n",
       "        text-align: right;\n",
       "    }\n",
       "</style>\n",
       "<table border=\"1\" class=\"dataframe\">\n",
       "  <thead>\n",
       "    <tr style=\"text-align: right;\">\n",
       "      <th>Symbols</th>\n",
       "      <th>AAPL</th>\n",
       "      <th>MSFT</th>\n",
       "    </tr>\n",
       "    <tr>\n",
       "      <th>Date</th>\n",
       "      <th></th>\n",
       "      <th></th>\n",
       "    </tr>\n",
       "  </thead>\n",
       "  <tbody>\n",
       "    <tr>\n",
       "      <th>2015-01-02</th>\n",
       "      <td>24.861401</td>\n",
       "      <td>41.443684</td>\n",
       "    </tr>\n",
       "    <tr>\n",
       "      <th>2015-01-05</th>\n",
       "      <td>24.161013</td>\n",
       "      <td>41.062580</td>\n",
       "    </tr>\n",
       "    <tr>\n",
       "      <th>2015-01-06</th>\n",
       "      <td>24.163294</td>\n",
       "      <td>40.459892</td>\n",
       "    </tr>\n",
       "    <tr>\n",
       "      <th>2015-01-07</th>\n",
       "      <td>24.502111</td>\n",
       "      <td>40.973934</td>\n",
       "    </tr>\n",
       "    <tr>\n",
       "      <th>2015-01-08</th>\n",
       "      <td>25.443539</td>\n",
       "      <td>42.179317</td>\n",
       "    </tr>\n",
       "  </tbody>\n",
       "</table>\n",
       "</div>"
      ],
      "text/plain": [
       "Symbols          AAPL       MSFT\n",
       "Date                            \n",
       "2015-01-02  24.861401  41.443684\n",
       "2015-01-05  24.161013  41.062580\n",
       "2015-01-06  24.163294  40.459892\n",
       "2015-01-07  24.502111  40.973934\n",
       "2015-01-08  25.443539  42.179317"
      ]
     },
     "execution_count": 36,
     "metadata": {},
     "output_type": "execute_result"
    }
   ],
   "source": [
    "start='2015-01-01'\n",
    "end='2019-12-31'\n",
    "names=['AAPL','MSFT']\n",
    "data=web.DataReader(names,'yahoo',start,end)['Adj Close']\n",
    "data.head()"
   ]
  },
  {
   "cell_type": "markdown",
   "metadata": {},
   "source": [
    "Calcule los rendimientos diarios junto con sus características estadísticas"
   ]
  },
  {
   "cell_type": "code",
   "execution_count": null,
   "metadata": {},
   "outputs": [],
   "source": []
  },
  {
   "cell_type": "markdown",
   "metadata": {},
   "source": [
    "Simule 1000 escenarios de rendimientos diarios para el 2020 (para cada una de las empresas)"
   ]
  },
  {
   "cell_type": "code",
   "execution_count": null,
   "metadata": {},
   "outputs": [],
   "source": []
  },
  {
   "cell_type": "markdown",
   "metadata": {},
   "source": [
    "Calcule los precios con base en los rendimientos simulados"
   ]
  },
  {
   "cell_type": "code",
   "execution_count": null,
   "metadata": {},
   "outputs": [],
   "source": []
  },
  {
   "cell_type": "markdown",
   "metadata": {},
   "source": [
    "Calcule la probabilidad de obtener un retorno del 20% para ambas marcas."
   ]
  },
  {
   "cell_type": "code",
   "execution_count": null,
   "metadata": {},
   "outputs": [],
   "source": []
  },
  {
   "cell_type": "markdown",
   "metadata": {},
   "source": [
    "Finalmente, grafique los datos reales del 2020 para ver que tan acertado fue nuestro análisis."
   ]
  },
  {
   "cell_type": "code",
   "execution_count": null,
   "metadata": {},
   "outputs": [],
   "source": []
  }
 ],
 "metadata": {
  "kernelspec": {
   "display_name": "Python 3",
   "language": "python",
   "name": "python3"
  },
  "language_info": {
   "codemirror_mode": {
    "name": "ipython",
    "version": 3
   },
   "file_extension": ".py",
   "mimetype": "text/x-python",
   "name": "python",
   "nbconvert_exporter": "python",
   "pygments_lexer": "ipython3",
   "version": "3.7.3"
  }
 },
 "nbformat": 4,
 "nbformat_minor": 2
}
