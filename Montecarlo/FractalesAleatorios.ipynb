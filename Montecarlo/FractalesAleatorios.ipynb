{
 "cells": [
  {
   "cell_type": "markdown",
   "metadata": {},
   "source": [
    "# Fractales aleatorios\n",
    "\n",
    "<img style=\"float: left; margin: 0px 0px 15px 15px;\" src=\"https://upload.wikimedia.org/wikipedia/commons/f/fa/Fractal_Crown_of_morgoth2_5600x4200.jpg\" width=\"350px\" height=\"125px\" />\n",
    "\n",
    "<img style=\"float: right; margin: 0px 0px 15px 15px;\" src=\"https://upload.wikimedia.org/wikipedia/commons/8/80/Super-volcano_Tierazon_fractal_Tiera4414.jpg\" width=\"350px\" height=\"125px\" />\n"
   ]
  },
  {
   "cell_type": "markdown",
   "metadata": {},
   "source": [
    "**Referencias:**\n",
    "- http://fractalfoundation.org/resources/what-are-fractals/\n",
    "- https://georgemdallas.wordpress.com/2014/05/02/what-are-fractals-and-why-should-i-care/\n",
    "- https://en.wikipedia.org/wiki/Barnsley_fern\n",
    "- http://www.home.aone.net.au/~byzantium/ferns/fractal.html"
   ]
  },
  {
   "cell_type": "markdown",
   "metadata": {},
   "source": [
    "Antes que nada, ¿qué son fractales?"
   ]
  },
  {
   "cell_type": "markdown",
   "metadata": {},
   "source": [
    "___\n",
    "## 1. Fractales\n",
    "\n",
    "<img style=\"float: right; margin: 0px 0px 15px 15px;\" src=\"https://upload.wikimedia.org/wikipedia/commons/2/21/Mandel_zoom_00_mandelbrot_set.jpg\" width=\"400px\" height=\"125px\" />\n",
    "\n",
    "- La geometría fractal es un campo de las matemáticas que tiene lugar a partir de los años setenta, y fue desarrollada principalmente por [Benoit Mandelbrot](https://es.wikipedia.org/wiki/Beno%C3%AEt_Mandelbrot).\n",
    "\n",
    "- La geometría elemental que aprendimos en la escuela se trataba de estudiar (y hacer) formas o figuras. Pues bien, la geometría fractal no es distinta.\n",
    "\n",
    "- Mientras que en geometría clásica las formas son suaves (círculos, triángulos, etcétera), las formas que produce la geometría fractal es tosca e infinitamente compleja.\n",
    "\n",
    "Bueno, ¿y cuál es su importancia?\n",
    "1. El proceso por el cual se obtienen formas fractales es impresionantemente simple y completamente diferente al seguido en geometría clásica. Mientras la geometría clásica se usan fórmulas para definir una forma, la geometría fractal usa iteración. Básicamente, podríamos decir que los fractales son imágenes de sistemas dinámicos.\n",
    "\n",
    "2. Las formas fractales se parecen mucho a formas encontradas en la naturaleza. Este impresionante hecho es difícil de ignorar. Como sabemos no existen círculos perfectos en la naturaleza, ni cuadrados perfectos. No es solo eso, el solo mirar los árboles, ríos o montañas, y no se encuentra una forma que sea descrita por una fórmula. Sin embargo, usando fórmulas simples iteradas muchas veces, la geometría fractal puede modelar esos fenómenos con alta precisión. Si puedes usar matemáticas simples para modelar el mundo, vas por buen camino.\n",
    "\n",
    "\n",
    "<img style=\"float: center; margin: 0px 0px 15px 15px;\" src=\"https://upload.wikimedia.org/wikipedia/commons/thumb/4/4d/Fractal_canopy.svg/1200px-Fractal_canopy.svg.png\" width=\"400px\" height=\"125px\" />"
   ]
  },
  {
   "cell_type": "markdown",
   "metadata": {},
   "source": [
    "___\n",
    "<img style=\"float: right; margin: 0px 0px 15px 15px;\" src=\"https://upload.wikimedia.org/wikipedia/commons/e/ee/Sa-fern.jpg\" width=\"400px\" height=\"125px\" />\n",
    "\n",
    "La figura de la derecha (planta verde) corresponde a un helecho. El matemático británico [Michael Barnsley](https://en.wikipedia.org/wiki/Michael_Barnsley) fue quien primero describió un fractal que representa impresionantemente bien estas plantas, en su libro *'Fractals Everywhere'*."
   ]
  },
  {
   "cell_type": "markdown",
   "metadata": {},
   "source": [
    "## 2. Fractal helecho de Barnsley\n",
    "El helecho de Barnsley es un fractal que usa cuatro transformaciones afines para generar los nuevos puntos. En la escogencia de cuál transformación usar para generar el siguiente punto es donde entra el componente probabilístico.\n",
    "\n",
    "Este fractal se puede describir de la siguiente manera:\n",
    "\n",
    "$$\\left[\\begin{array}{c}x_{k+1}\\\\ y_{k+1}\\end{array}\\right]=\\left[\\begin{array}{cc}a_i & b_i \\\\ c_i & d_i\\end{array}\\right]\\left[\\begin{array}{c}x_k\\\\ y_k\\end{array}\\right]+\\left[\\begin{array}{c}e_i\\\\f_i\\end{array}\\right],$$\n",
    "\n",
    "donde $a_i$, $b_i$, $c_i$, $d_i$, $e_i$ y $f_i$ son coeficientes que dependen de la variable aleatoria $i\\in\\left\\lbrace 0,1,2,3\\right\\rbrace$. Las condiciones iniciales son $x_0=y_0=0$.\n",
    "\n",
    "Las probabilidades de ocurrencia de cada valor de $i$ son $P\\left\\lbrace i=0\\right\\rbrace=p_0=0.01$, $P\\left\\lbrace i=1\\right\\rbrace=p_1=0.85$, $P\\left\\lbrace i=2\\right\\rbrace=p_2=0.07$ y $P\\left\\lbrace i=3\\right\\rbrace=p_3=0.07$ (notar que la suma de las probabilidades es 1).\n",
    "\n",
    "Todas las anteriores constantes se resume en la siguiente tabla (matriz):"
   ]
  },
  {
   "cell_type": "code",
   "execution_count": 1,
   "metadata": {},
   "outputs": [],
   "source": [
    "# Importamos pandas y numpy\n",
    "import pandas as pd\n",
    "import numpy as np"
   ]
  },
  {
   "cell_type": "code",
   "execution_count": 2,
   "metadata": {},
   "outputs": [
    {
     "data": {
      "text/html": [
       "<div>\n",
       "<style scoped>\n",
       "    .dataframe tbody tr th:only-of-type {\n",
       "        vertical-align: middle;\n",
       "    }\n",
       "\n",
       "    .dataframe tbody tr th {\n",
       "        vertical-align: top;\n",
       "    }\n",
       "\n",
       "    .dataframe thead th {\n",
       "        text-align: right;\n",
       "    }\n",
       "</style>\n",
       "<table border=\"1\" class=\"dataframe\">\n",
       "  <thead>\n",
       "    <tr style=\"text-align: right;\">\n",
       "      <th></th>\n",
       "      <th>ai</th>\n",
       "      <th>bi</th>\n",
       "      <th>ci</th>\n",
       "      <th>di</th>\n",
       "      <th>ei</th>\n",
       "      <th>fi</th>\n",
       "      <th>pi</th>\n",
       "      <th>Porción generada</th>\n",
       "    </tr>\n",
       "    <tr>\n",
       "      <th>$i$</th>\n",
       "      <th></th>\n",
       "      <th></th>\n",
       "      <th></th>\n",
       "      <th></th>\n",
       "      <th></th>\n",
       "      <th></th>\n",
       "      <th></th>\n",
       "      <th></th>\n",
       "    </tr>\n",
       "  </thead>\n",
       "  <tbody>\n",
       "    <tr>\n",
       "      <th>0</th>\n",
       "      <td>0.00</td>\n",
       "      <td>0.00</td>\n",
       "      <td>0.00</td>\n",
       "      <td>0.16</td>\n",
       "      <td>0.0</td>\n",
       "      <td>0.00</td>\n",
       "      <td>0.01</td>\n",
       "      <td>Tallo</td>\n",
       "    </tr>\n",
       "    <tr>\n",
       "      <th>1</th>\n",
       "      <td>0.85</td>\n",
       "      <td>0.04</td>\n",
       "      <td>-0.04</td>\n",
       "      <td>0.85</td>\n",
       "      <td>0.0</td>\n",
       "      <td>1.60</td>\n",
       "      <td>0.85</td>\n",
       "      <td>Follaje cada vez más pequeño</td>\n",
       "    </tr>\n",
       "    <tr>\n",
       "      <th>2</th>\n",
       "      <td>0.20</td>\n",
       "      <td>-0.26</td>\n",
       "      <td>0.23</td>\n",
       "      <td>0.22</td>\n",
       "      <td>0.0</td>\n",
       "      <td>1.60</td>\n",
       "      <td>0.07</td>\n",
       "      <td>Ramas izquierda</td>\n",
       "    </tr>\n",
       "    <tr>\n",
       "      <th>3</th>\n",
       "      <td>-0.15</td>\n",
       "      <td>0.28</td>\n",
       "      <td>0.26</td>\n",
       "      <td>0.24</td>\n",
       "      <td>0.0</td>\n",
       "      <td>0.44</td>\n",
       "      <td>0.07</td>\n",
       "      <td>Ramas derecha</td>\n",
       "    </tr>\n",
       "  </tbody>\n",
       "</table>\n",
       "</div>"
      ],
      "text/plain": [
       "       ai    bi    ci    di   ei    fi    pi              Porción generada\n",
       "$i$                                                                       \n",
       "0    0.00  0.00  0.00  0.16  0.0  0.00  0.01                         Tallo\n",
       "1    0.85  0.04 -0.04  0.85  0.0  1.60  0.85  Follaje cada vez más pequeño\n",
       "2    0.20 -0.26  0.23  0.22  0.0  1.60  0.07               Ramas izquierda\n",
       "3   -0.15  0.28  0.26  0.24  0.0  0.44  0.07                 Ramas derecha"
      ]
     },
     "execution_count": 2,
     "metadata": {},
     "output_type": "execute_result"
    }
   ],
   "source": [
    "# Matriz de Barnsley\n",
    "i = np.arange(4)\n",
    "\n",
    "df = pd.DataFrame(index=i,columns=['ai', 'bi', 'ci', 'di', 'ei', 'fi', 'pi', 'Porción generada'], dtype='float')\n",
    "df.index.name = \"$i$\"\n",
    "\n",
    "df['ai'] = [0.0, 0.85, 0.2, -0.15]\n",
    "df['bi'] = [0.0, 0.04, -0.26, 0.28]\n",
    "df['ci'] = [0.0, -0.04, 0.23, 0.26]\n",
    "df['di'] = [0.16, 0.85, 0.22, 0.24]\n",
    "df['ei'] = [0.0, 0.0, 0.0, 0.0]\n",
    "df['fi'] = [0.0, 1.6, 1.6, 0.44]\n",
    "df['pi'] = [0.01, 0.85, 0.07, 0.07]\n",
    "df['Porción generada'] = ['Tallo', 'Follaje cada vez más pequeño', 'Ramas izquierda', 'Ramas derecha']\n",
    "\n",
    "df.round(2)"
   ]
  },
  {
   "cell_type": "markdown",
   "metadata": {},
   "source": [
    "Con la anterior descripción, generemos el helecho de Barnsley con un código en python..."
   ]
  },
  {
   "cell_type": "code",
   "execution_count": null,
   "metadata": {},
   "outputs": [],
   "source": []
  },
  {
   "cell_type": "markdown",
   "metadata": {},
   "source": [
    "### 2.1 Mutaciones\n",
    "\n",
    "Jugando con los coeficientes de la transformación, es posible crear mutaciones del helecho."
   ]
  },
  {
   "cell_type": "markdown",
   "metadata": {},
   "source": [
    "#### Mutación Cyclosorus\n",
    "Un experimentador dió con una tabla de coeficientes que produce otro helecho que se ve muy parecido a la naturaleza. La tabla es la siguiente:"
   ]
  },
  {
   "cell_type": "code",
   "execution_count": null,
   "metadata": {},
   "outputs": [],
   "source": [
    "i = np.arange(1,5)\n",
    "\n",
    "df = pd.DataFrame(index=i,columns=['ai', 'bi', 'ci', 'di', 'ei', 'fi', 'pi', 'Porción generada'], dtype='float')\n",
    "df.index.name = \"$i$\"\n",
    "\n",
    "df['ai'] = [0.0, 0.95, 0.035, -0.04]\n",
    "df['bi'] = [0.0, 0.005, -0.2, 0.2]\n",
    "df['ci'] = [0.0, -0.005, 0.16, 0.16]\n",
    "df['di'] = [0.25, 0.93, 0.04, 0.04]\n",
    "df['ei'] = [0.0, -0.002, -0.09, 0.083]\n",
    "df['fi'] = [-0.4, 0.5, 0.02, 0.12]\n",
    "df['pi'] = [0.02, 0.84, 0.07, 0.07]\n",
    "df['Porción generada'] = ['Tallo', 'Follaje cada vez más pequeño', 'Ramas izquierda', 'Ramas derecha']\n",
    "\n",
    "df.round(3)"
   ]
  },
  {
   "cell_type": "markdown",
   "metadata": {},
   "source": [
    "La actividad consiste en generar el helecho mutante con los coeficientes de esta nueva tabla."
   ]
  },
  {
   "cell_type": "code",
   "execution_count": null,
   "metadata": {},
   "outputs": [],
   "source": []
  },
  {
   "cell_type": "markdown",
   "metadata": {},
   "source": [
    "#### Actividad - Mutación Culcita\n",
    "Un experimentador dió con una tabla de coeficientes que produce otro helecho que se ve muy parecido a la naturaleza. La tabla es la siguiente:"
   ]
  },
  {
   "cell_type": "code",
   "execution_count": null,
   "metadata": {},
   "outputs": [],
   "source": [
    "i = np.arange(1,5)\n",
    "\n",
    "df = pd.DataFrame(index=i,columns=['ai', 'bi', 'ci', 'di', 'ei', 'fi', 'pi', 'Porción generada'], dtype='float')\n",
    "df.index.name = \"$i$\"\n",
    "\n",
    "df['ai'] = [0.0, 0.85, 0.09, -0.09]\n",
    "df['bi'] = [0.0, 0.02, -0.28, 0.28]\n",
    "df['ci'] = [0.0, -0.02, 0.3, 0.3]\n",
    "df['di'] = [0.25, 0.83, 0.11, 0.09]\n",
    "df['ei'] = [0.0, 0.0, 0.0, 0.0]\n",
    "df['fi'] = [-0.14, 1.0, 0.6, 0.7]\n",
    "df['pi'] = [0.02, 0.84, 0.07, 0.07]\n",
    "df['Porción generada'] = ['Tallo', 'Follaje cada vez más pequeño', 'Ramas izquierda', 'Ramas derecha']\n",
    "\n",
    "df.round(3)"
   ]
  },
  {
   "cell_type": "code",
   "execution_count": null,
   "metadata": {},
   "outputs": [],
   "source": []
  },
  {
   "cell_type": "markdown",
   "metadata": {},
   "source": [
    "---\n",
    "La escencia de fractales aleatorios no es partir de una tabla y generar funciones distribuidas con cierta probabilidad, ya que se puede partir de funciones dadas y ejecutar el mismo proceso, es decir\n",
    "$$\n",
    "\\begin{bmatrix}\n",
    "x_{k+1}\\\\y_{k+1}\n",
    "\\end{bmatrix}=f_i(x_k,y_k)\n",
    "$$\n",
    "donde $f_i(x_k,y_k)$ son funciones que dependen la la variable aleatoria $i\\in \\{0,1,\\dots\\}$.\n",
    "\n",
    "En los ejemplos anteriores las funciones $f_i(x_k,y_k)$ eran transformaciones afines (multiplicación y suma), pero pueden ser funciones no lineales. Por ejemplo:"
   ]
  },
  {
   "cell_type": "markdown",
   "metadata": {},
   "source": [
    "#### Twindragon\n",
    "Siendo\n",
    "$$f_1(x,y)=\\begin{bmatrix}\\mathcal{Re}\\left\\{\\frac{\\sqrt{2}}{2}e^{\\frac{1}{4}\\pi j}(x+yj)\\right\\}\\\\\\mathcal{Im}\\left\\{\\frac{\\sqrt{2}}{2}e^{\\frac{1}{4}\\pi j}(x+yj)\\right\\}\\end{bmatrix}$$\n",
    "y\n",
    "$$f_2(x,y)=\\begin{bmatrix}\\mathcal{Re}\\left\\{\\frac{\\sqrt{2}}{2}e^{\\frac{3}{4}\\pi j}(x+yj)+55j\\right\\}\\\\\\mathcal{Im}\\left\\{\\frac{\\sqrt{2}}{2}e^{\\frac{3}{4}\\pi j}(x+yj)+55j\\right\\}\\end{bmatrix}$$\n",
    "entonces\n",
    "$$\n",
    "\\begin{bmatrix}\n",
    "x_{k+1}\\\\y_{k+1}\n",
    "\\end{bmatrix}=f_i(x_k,y_k)\n",
    "$$\n",
    "donde $j=\\sqrt{-1}$ es la unidad imaginaria, $i=\\{1,2\\}$ es la variable aleatoria distribuida con la misma probabilidad; y condiciones iniciales $x_0=0$, $y_0=0$."
   ]
  },
  {
   "cell_type": "code",
   "execution_count": null,
   "metadata": {},
   "outputs": [],
   "source": []
  },
  {
   "cell_type": "markdown",
   "metadata": {},
   "source": [
    "## 3. Otra aplicación (elegible para proyecto)\n",
    "Un paisaje fractal es una superficie generada usando un algoritmo estocástico diseñado para producir un comportamiento fractal que mimetiza la apariencia de un terreno natural. En otras palabras, el resultado de este procedimiento no es una superficie fractal determinística, sino una superficie aleatoria que exhibe comportamiento fractal.\n",
    "\n",
    "<img style=\"float: left; margin: 0px 0px 0px 0px;\" src=\"https://upload.wikimedia.org/wikipedia/commons/6/6d/Animated_fractal_mountain.gif\" width=\"300px\" height=\"100px\" />\n",
    "\n",
    "<img style=\"float: center; margin: 0px 0px 0px 0px;\" src=\"https://upload.wikimedia.org/wikipedia/commons/6/6e/FractalLandscape.jpg\" width=\"300px\" height=\"100px\" />\n",
    "\n",
    "<img style=\"float: right; margin: 0px 0px 0px 0px;\" src=\"https://upload.wikimedia.org/wikipedia/commons/8/8b/Fractal_terrain_texture.jpg\" width=\"300px\" height=\"100px\" />\n",
    "\n",
    "**Referencia:**\n",
    "- https://en.wikipedia.org/wiki/Fractal_landscape"
   ]
  }
 ],
 "metadata": {
  "kernelspec": {
   "display_name": "Python 3",
   "language": "python",
   "name": "python3"
  },
  "language_info": {
   "codemirror_mode": {
    "name": "ipython",
    "version": 3
   },
   "file_extension": ".py",
   "mimetype": "text/x-python",
   "name": "python",
   "nbconvert_exporter": "python",
   "pygments_lexer": "ipython3",
   "version": "3.7.3"
  }
 },
 "nbformat": 4,
 "nbformat_minor": 2
}
