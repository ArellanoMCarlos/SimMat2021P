{
 "cells": [
  {
   "cell_type": "markdown",
   "metadata": {},
   "source": [
    "# Ajuste de curvas\n",
    "\n",
    "<img style=\"float: right; margin: 0px 0px 15px 15px;\" src=\"https://upload.wikimedia.org/wikipedia/commons/a/a8/Regression_pic_assymetrique.gif\" width=\"400px\" height=\"125px\" />\n",
    "\n",
    "> El **ajuste de curvas** es el proceso de construir una curva (función), que sea el mejor ajuste a una serie de puntos. Las curvas ajustadas pueden ser usadas como asistencia en la visualización de datos, para inferir valores de una función donde no hay datos disponibles, y para resumir la relación entre variables.\n",
    "\n",
    "**Referencia**:\n",
    "- https://en.wikipedia.org/wiki/Curve_fitting\n",
    "___"
   ]
  },
  {
   "cell_type": "markdown",
   "metadata": {},
   "source": [
    "## 0. Introducción\n",
    "\n",
    "Consideremos un polinomio de grado uno:\n",
    "\n",
    "$$y = \\beta_1 x + \\beta_0.$$\n",
    "\n",
    "Esta es una **línea recta** que tiene pendiente $\\beta_1$. Sabemos que habrá una línea conectando dos puntos cualesquiera. Por tanto, *una ecuación polinómica de primer grado es un ajuste perfecto entre dos puntos*.\n",
    "\n",
    "Si consideramos ahora un polinomio de segundo grado,\n",
    "\n",
    "$$y = \\beta_2 x^2 + \\beta_1 x + \\beta_0,$$\n",
    "\n",
    "este se ajustará exactamente a tres puntos. Si aumentamos el grado de la función a la de un polinomio de tercer grado, obtenemos:\n",
    "\n",
    "$$y = \\beta_3 x^3 + \\beta_2 x^2 + \\beta_1 x + \\beta_0,$$\n",
    "\n",
    "que se ajustará a cuatro puntos.\n",
    "\n",
    "**Ejemplos**\n",
    "1. Encontrar la línea recta que pasa exactamente por los puntos $(3,1)$ y $(2,0)$.\n",
    "2. Encontrar la parábola que pasa exactamente por los puntos $(0,1)$, $(1,0)$ y $(2,1)$.\n",
    "\n",
    "**Solución**\n",
    "1. Consideramos $y=\\beta_1 x + \\beta_0$. Evaluando en el punto $(3,1)$, obtenemos $\\beta_1(3) + \\beta_0 = 1$. Ahora, evaluando en el punto $(2,0)$, obtenemos $\\beta_1(2) + \\beta_0 = 0$. De esta manera,\n",
    "$$\\left[\\begin{array}{cc} 1 & 3 \\\\ 1 & 2\\end{array}\\right]\\left[\\begin{array}{c} \\beta_0 \\\\ \\beta_1\\end{array}\\right]=\\left[\\begin{array}{c} 1 \\\\ 0\\end{array}\\right].$$\n",
    "Resolviendo, $\\beta_0=-2, \\, \\beta_1=1$."
   ]
  },
  {
   "cell_type": "code",
   "execution_count": 2,
   "metadata": {},
   "outputs": [],
   "source": [
    "import numpy as np\n",
    "import matplotlib.pyplot as plt"
   ]
  },
  {
   "cell_type": "code",
   "execution_count": 3,
   "metadata": {},
   "outputs": [
    {
     "data": {
      "text/plain": [
       "array([ 1., -2.])"
      ]
     },
     "execution_count": 3,
     "metadata": {},
     "output_type": "execute_result"
    }
   ],
   "source": [
    "A=np.array([[3,1],[2,1]])\n",
    "b=np.array([1,0])\n",
    "np.linalg.inv(A)@b"
   ]
  },
  {
   "cell_type": "code",
   "execution_count": 7,
   "metadata": {},
   "outputs": [
    {
     "data": {
      "text/plain": [
       "-2"
      ]
     },
     "execution_count": 7,
     "metadata": {},
     "output_type": "execute_result"
    }
   ],
   "source": [
    "beta[0]"
   ]
  },
  {
   "cell_type": "code",
   "execution_count": 8,
   "metadata": {},
   "outputs": [
    {
     "data": {
      "text/plain": [
       "1"
      ]
     },
     "execution_count": 8,
     "metadata": {},
     "output_type": "execute_result"
    }
   ],
   "source": [
    "beta[1]"
   ]
  },
  {
   "cell_type": "code",
   "execution_count": 6,
   "metadata": {},
   "outputs": [
    {
     "data": {
      "image/png": "[encoded data removed]",
      "text/plain": [
       "<Figure size 432x288 with 1 Axes>"
      ]
     },
     "metadata": {
      "needs_background": "light"
     },
     "output_type": "display_data"
    }
   ],
   "source": [
    "beta=[-2,1]\n",
    "x=np.linspace(0,5,100)\n",
    "y=beta[1]*x+beta[0]\n",
    "plt.plot([3,2],[1,0],'bo',ms=10) # puntos: (3,1) y (2,0) -> (x,y)\n",
    "plt.plot(x,y)\n",
    "plt.grid()"
   ]
  },
  {
   "cell_type": "markdown",
   "metadata": {},
   "source": [
    "2. Consideramos $y=\\beta_2 x^2 + \\beta_1 x + \\beta_0$. Evaluando en el punto $(0,1)$, obtenemos $\\beta_2(0)^2 + \\beta_1(0) + \\beta_0 = 1$. Ahora, evaluando en el punto $(1,0)$, obtenemos $\\beta_2(1)^2 + \\beta_1(1) + \\beta_0 = 0$. Finalmente, evaluando en el punto $(2,1)$, obtenemos $\\beta_2(2)^2 + \\beta_1(2) + \\beta_0 = 1$. De esta manera,\n",
    "$$\\left[\\begin{array}{ccc} 1 & 0 & 0 \\\\ 1 & 1 & 1 \\\\ 1 & 2 & 4 \\end{array}\\right]\\left[\\begin{array}{c} \\beta_0 \\\\ \\beta_1 \\\\ \\beta_2 \\end{array}\\right]=\\left[\\begin{array}{c} 1 \\\\ 0 \\\\ 1 \\end{array}\\right].$$\n",
    "Resolviendo, $\\beta_0=1, \\, \\beta_1=-2$ y $\\beta_2=1$."
   ]
  },
  {
   "cell_type": "code",
   "execution_count": 4,
   "metadata": {},
   "outputs": [
    {
     "data": {
      "text/plain": [
       "array([ 1., -2.,  1.])"
      ]
     },
     "execution_count": 4,
     "metadata": {},
     "output_type": "execute_result"
    }
   ],
   "source": [
    "A=np.array([[0,0,1],[1,1,1],[4,2,1]])\n",
    "b=np.array([1,0,1])\n",
    "np.linalg.inv(A)@b"
   ]
  },
  {
   "cell_type": "code",
   "execution_count": 10,
   "metadata": {},
   "outputs": [
    {
     "data": {
      "image/png": "[encoded data removed]",
      "text/plain": [
       "<Figure size 432x288 with 1 Axes>"
      ]
     },
     "metadata": {
      "needs_background": "light"
     },
     "output_type": "display_data"
    }
   ],
   "source": [
    "beta=[1,-2,1]\n",
    "x=np.linspace(-1,3,100)\n",
    "y=beta[0]+beta[1]*x+beta[2]*x**2\n",
    "plt.plot([0,1,2],[1,0,1],'bo',ms=10) # puntos: (0,1), (1,0) y (2,1)\n",
    "plt.plot(x,y)\n",
    "plt.grid()"
   ]
  },
  {
   "cell_type": "markdown",
   "metadata": {},
   "source": [
    "### ¿Qué tienen en común los anteriores problemas?\n",
    "Las curvas están completamente determinadas por los puntos (datos limpios, suficientes y necesarios).\n",
    "\n",
    "Esto se traduce en que, al llevar el problema a un sistema de ecuaciones lineales, existe una única solución: **no hay necesidad, ni se puede optimizar nada**.\n",
    "\n",
    "¿Tendremos datos así de **'*bonitos*'** en la vida real?\n",
    "\n",
    "La realidad es que los datos que encontraremos en nuestra vida profesional se parecen más a esto..."
   ]
  },
  {
   "cell_type": "code",
   "execution_count": null,
   "metadata": {},
   "outputs": [],
   "source": []
  },
  {
   "cell_type": "markdown",
   "metadata": {},
   "source": [
    "### ¿Cómo ajustamos una curva a esto?"
   ]
  },
  {
   "cell_type": "markdown",
   "metadata": {},
   "source": [
    "## 1. Problema básico\n",
    "\n",
    "<img style=\"float: right; margin: 0px 0px 15px 15px;\" src=\"https://upload.wikimedia.org/wikipedia/commons/3/3a/Linear_regression.svg\" width=\"400px\" height=\"125px\" />\n",
    "\n",
    "Consideramos que tenemos un conjunto de n pares ordenados de datos $(x_i,y_i)$, para $i=1,2,3,\\dots,n$.\n",
    "\n",
    "### ¿Cuál es la recta que mejor se ajusta a estos datos?\n",
    "Consideramos entonces ajustes de la forma $\\hat{f}(x) = \\beta_0+\\beta_1 x = \\left[1 \\quad x\\right]\\left[\\begin{array}{c} \\beta_0 \\\\ \\beta_1 \\end{array}\\right]=\\left[1 \\quad x\\right]\\boldsymbol{\\beta}$ (lineas rectas).\n",
    "\n",
    "Para decir '*mejor*', tenemos que definir algún sentido en que una recta se ajuste *mejor* que otra.\n",
    "\n",
    "**Mínimos cuadrados**: el objetivo es seleccionar los coeficientes $\\boldsymbol{\\beta}=\\left[\\beta_0 \\quad \\beta_1 \\right]^\\top$, de forma que la función evaluada en los puntos $x_i$ i.e.($\\hat{f}(x_i)$) aproxime los valores correspondientes $y_i$.\n",
    "\n",
    "La formulación por mínimos cuadrados, encuentra los $\\boldsymbol{\\beta}=\\left[\\beta_0 \\quad \\beta_1 \\right]^T$ que minimiza\n",
    "$$\\sum_{i=1}^{n}(y_i-\\hat{f}(x_i))^2=\\sum_{i=1}^{n}(y_i-\\left[1 \\quad x_i\\right]\\boldsymbol{\\beta})^2=\\left|\\left|\\boldsymbol{y}-\\boldsymbol{X}\\boldsymbol{\\beta}\\right|\\right|^2,$$\n",
    "\n",
    "donde $\\boldsymbol{y}=\\left[y_1,\\quad\\cdots\\quad, y_n\\right]^\\top$, y $\\boldsymbol{X}=\\left[\\begin{array}{ccc}1 & x_1\\\\ \\vdots & \\vdots \\\\ 1 & x_n\\end{array}\\right].$ Esto es,\n",
    "\n",
    "$$\\boldsymbol{\\beta}^{ls} = \\arg \\min_{\\boldsymbol{\\beta}} \\left|\\left|\\boldsymbol{y}-\\boldsymbol{X}\\boldsymbol{\\beta}\\right|\\right|^2$$"
   ]
  },
  {
   "cell_type": "code",
   "execution_count": 11,
   "metadata": {},
   "outputs": [],
   "source": [
    "from scipy.optimize import minimize"
   ]
  },
  {
   "cell_type": "code",
   "execution_count": 34,
   "metadata": {},
   "outputs": [],
   "source": [
    "minimize?"
   ]
  },
  {
   "cell_type": "markdown",
   "metadata": {},
   "source": [
    "## 2. Ajuste polinomial\n",
    "\n",
    "Ahora, considere el siguiente conjunto de datos..."
   ]
  },
  {
   "cell_type": "code",
   "execution_count": 18,
   "metadata": {},
   "outputs": [
    {
     "data": {
      "text/plain": [
       "array([ 5.09750364e-01, -6.34792775e-01, -1.42021862e+00, -1.77221884e+00,\n",
       "       -1.61699063e+00,  1.14001520e+00,  1.15398831e+00, -6.12523530e-01,\n",
       "        4.30764348e-01, -1.75250438e+00, -1.00843567e+00, -1.98215419e-01,\n",
       "        1.99838813e+00, -3.15819765e-01, -1.35556304e+00,  1.66731930e+00,\n",
       "        1.79400172e+00, -1.80301529e+00,  4.67664541e-01, -1.69636502e+00,\n",
       "        3.91510268e-01, -1.02038787e+00,  1.27652758e+00,  1.77506401e+00,\n",
       "       -9.86128339e-01, -1.94360806e+00, -6.53469214e-01,  2.98693403e-01,\n",
       "        1.83419229e+00, -1.87558326e-01,  1.11974031e+00, -1.68035099e+00,\n",
       "        1.84615195e+00,  3.85396607e-01, -1.37989111e+00,  1.88248230e+00,\n",
       "       -1.36047723e+00,  1.27789347e+00, -2.25416098e-01, -1.65509103e+00,\n",
       "        7.32361400e-01, -1.61148730e+00, -1.70052103e+00, -1.29303419e+00,\n",
       "       -1.52781086e+00,  1.48074876e+00, -4.12766065e-01, -1.49253001e+00,\n",
       "        9.28207346e-01, -1.04086822e+00, -5.95102817e-01,  1.78696885e+00,\n",
       "       -5.33436179e-01, -8.23623233e-03,  2.70173362e-01, -5.00358162e-01,\n",
       "        1.79722181e+00,  1.00007274e+00,  1.44956739e+00, -6.08372651e-01,\n",
       "        1.60729840e+00, -1.37074928e+00,  2.11109560e-01,  5.10386258e-01,\n",
       "        1.77738487e+00,  2.06599927e-01,  4.01402823e-01,  1.06753676e+00,\n",
       "        1.93496212e+00,  1.49772072e+00,  1.75135512e-01, -6.29317008e-04,\n",
       "        6.31249912e-01, -1.15707148e+00, -8.99397708e-01, -4.63977173e-01,\n",
       "       -8.62380535e-01,  1.22948069e+00,  1.83617917e+00, -1.95634899e+00,\n",
       "        8.30192810e-01,  1.22268851e+00,  5.61389369e-01,  7.34150258e-01,\n",
       "       -9.41480856e-01, -5.48611258e-01,  1.25037178e+00, -1.91789817e+00,\n",
       "       -1.13836110e+00, -1.69365807e+00, -1.97229365e+00, -1.31840837e+00,\n",
       "        3.26429261e-01, -1.16135830e+00,  6.00577724e-01, -5.69474487e-01,\n",
       "       -4.60078265e-01,  3.40031691e-01, -2.33304450e-01,  8.68169854e-01])"
      ]
     },
     "execution_count": 18,
     "metadata": {},
     "output_type": "execute_result"
    }
   ],
   "source": [
    "np.random.uniform(-2,2,100)"
   ]
  },
  {
   "cell_type": "code",
   "execution_count": 25,
   "metadata": {},
   "outputs": [
    {
     "data": {
      "image/png": "[encoded data removed]",
      "text/plain": [
       "<Figure size 432x288 with 1 Axes>"
      ]
     },
     "metadata": {
      "needs_background": "light"
     },
     "output_type": "display_data"
    }
   ],
   "source": [
    "x=np.linspace(-20,60,100)\n",
    "y=5+1/7*x+np.random.uniform(-2,2,100)\n",
    "plt.scatter(x,y,s=5)\n",
    "plt.grid()"
   ]
  },
  {
   "cell_type": "code",
   "execution_count": 26,
   "metadata": {},
   "outputs": [],
   "source": [
    "# definir la función a minimizar (minimos cuadrados)\n",
    "def min_cuad(beta,x,y):\n",
    "    f=beta[0]+beta[1]*x # función a ajustar (polinomio de grado 1)\n",
    "    return sum((y-f)**2)"
   ]
  },
  {
   "cell_type": "code",
   "execution_count": 33,
   "metadata": {},
   "outputs": [
    {
     "data": {
      "text/plain": [
       "array([0.67730159, 0.72494481])"
      ]
     },
     "execution_count": 33,
     "metadata": {},
     "output_type": "execute_result"
    }
   ],
   "source": [
    "beta0=np.random.rand(2)\n",
    "beta0"
   ]
  },
  {
   "cell_type": "code",
   "execution_count": 37,
   "metadata": {},
   "outputs": [
    {
     "data": {
      "text/plain": [
       "0.14285714285714285"
      ]
     },
     "execution_count": 37,
     "metadata": {},
     "output_type": "execute_result"
    }
   ],
   "source": [
    "1/7"
   ]
  },
  {
   "cell_type": "code",
   "execution_count": 38,
   "metadata": {},
   "outputs": [
    {
     "data": {
      "text/plain": [
       "array([4.90300646, 0.1413994 ])"
      ]
     },
     "execution_count": 38,
     "metadata": {},
     "output_type": "execute_result"
    }
   ],
   "source": [
    "sol=minimize(min_cuad,beta0,args=(x,y))\n",
    "sol.x"
   ]
  },
  {
   "cell_type": "code",
   "execution_count": 40,
   "metadata": {},
   "outputs": [
    {
     "data": {
      "image/png": "[encoded data removed]",
      "text/plain": [
       "<Figure size 432x288 with 1 Axes>"
      ]
     },
     "metadata": {
      "needs_background": "light"
     },
     "output_type": "display_data"
    }
   ],
   "source": [
    "plt.scatter(x,y,s=5)\n",
    "f=sol.x[0]+sol.x[1]*x\n",
    "plt.plot(x,f,'r')\n",
    "plt.grid()"
   ]
  },
  {
   "cell_type": "code",
   "execution_count": 47,
   "metadata": {},
   "outputs": [
    {
     "data": {
      "image/png": "[encoded data removed]",
      "text/plain": [
       "<Figure size 432x288 with 1 Axes>"
      ]
     },
     "metadata": {
      "needs_background": "light"
     },
     "output_type": "display_data"
    }
   ],
   "source": [
    "x=np.linspace(-np.pi/5,5*np.pi/4,100)\n",
    "y=np.cos(x)+np.random.uniform(-0.5,0.5,100)\n",
    "plt.scatter(x,y,s=5)\n",
    "plt.grid()"
   ]
  },
  {
   "cell_type": "code",
   "execution_count": 50,
   "metadata": {},
   "outputs": [],
   "source": [
    "# ajustando a una línea recta\n",
    "\n",
    "#redefiniendo mínimos cuadrados\n",
    "def min_cuad(beta,x,y,f):\n",
    "    return sum((y-f(beta,x))**2)\n",
    "def f1(beta,x):\n",
    "    return beta[0]+beta[1]*x"
   ]
  },
  {
   "cell_type": "code",
   "execution_count": 54,
   "metadata": {},
   "outputs": [],
   "source": [
    "#minimize?"
   ]
  },
  {
   "cell_type": "code",
   "execution_count": 52,
   "metadata": {},
   "outputs": [
    {
     "data": {
      "text/plain": [
       "      fun: 11.946544791338493\n",
       " hess_inv: array([[ 0.01270988, -0.00467454],\n",
       "       [-0.00467454,  0.00283419]])\n",
       "      jac: array([-3.57627869e-07,  5.96046448e-07])\n",
       "  message: 'Optimization terminated successfully.'\n",
       "     nfev: 28\n",
       "      nit: 5\n",
       "     njev: 7\n",
       "   status: 0\n",
       "  success: True\n",
       "        x: array([ 0.86908855, -0.5397773 ])"
      ]
     },
     "execution_count": 52,
     "metadata": {},
     "output_type": "execute_result"
    }
   ],
   "source": [
    "beta0=np.random.rand(2)\n",
    "sol1=minimize(min_cuad,beta0,args=(x,y,f1))\n",
    "sol1"
   ]
  },
  {
   "cell_type": "code",
   "execution_count": 53,
   "metadata": {},
   "outputs": [
    {
     "data": {
      "image/png": "[encoded data removed]",
      "text/plain": [
       "<Figure size 432x288 with 1 Axes>"
      ]
     },
     "metadata": {
      "needs_background": "light"
     },
     "output_type": "display_data"
    }
   ],
   "source": [
    "plt.scatter(x,y,s=5)\n",
    "plt.plot(x,f1(sol1.x,x),'r')\n",
    "plt.grid()"
   ]
  },
  {
   "cell_type": "code",
   "execution_count": 55,
   "metadata": {},
   "outputs": [
    {
     "data": {
      "text/plain": [
       "      fun: 11.845315114170644\n",
       " hess_inv: array([[ 0.0145463 , -0.01101015,  0.00192066],\n",
       "       [-0.01101015,  0.02469204, -0.00662625],\n",
       "       [ 0.00192066, -0.00662625,  0.00200876]])\n",
       "      jac: array([-1.19209290e-07, -5.96046448e-07,  1.19209290e-07])\n",
       "  message: 'Optimization terminated successfully.'\n",
       "     nfev: 40\n",
       "      nit: 4\n",
       "     njev: 8\n",
       "   status: 0\n",
       "  success: True\n",
       "        x: array([ 0.88837057, -0.60630014,  0.02016655])"
      ]
     },
     "execution_count": 55,
     "metadata": {},
     "output_type": "execute_result"
    }
   ],
   "source": [
    "# Ajustando un polinomio de grado 2\n",
    "def f2(beta,x):\n",
    "    return beta[0]+beta[1]*x+beta[2]*x**2\n",
    "beta0=np.random.rand(3)\n",
    "sol2=minimize(min_cuad,beta0,args=(x,y,f2))\n",
    "sol2"
   ]
  },
  {
   "cell_type": "code",
   "execution_count": 56,
   "metadata": {},
   "outputs": [
    {
     "data": {
      "image/png": "[encoded data removed]",
      "text/plain": [
       "<Figure size 432x288 with 1 Axes>"
      ]
     },
     "metadata": {
      "needs_background": "light"
     },
     "output_type": "display_data"
    }
   ],
   "source": [
    "plt.scatter(x,y,s=5)\n",
    "plt.plot(x,f2(sol2.x,x),'r')\n",
    "plt.grid()"
   ]
  },
  {
   "cell_type": "code",
   "execution_count": 64,
   "metadata": {},
   "outputs": [
    {
     "data": {
      "text/plain": [
       "      fun: 7.138917442487018\n",
       " hess_inv: array([[ 0.01537739, -0.00548577, -0.00356181,  0.00110801],\n",
       "       [-0.00548577,  0.06141332, -0.04306886,  0.00736511],\n",
       "       [-0.00356181, -0.04306886,  0.03817481, -0.00730921],\n",
       "       [ 0.00110801,  0.00736511, -0.00730921,  0.0014772 ]])\n",
       "      jac: array([2.75373459e-05, 4.11272049e-06, 2.81929970e-05, 2.74598598e-04])\n",
       "  message: 'Desired error not necessarily achieved due to precision loss.'\n",
       "     nfev: 268\n",
       "      nit: 4\n",
       "     njev: 43\n",
       "   status: 2\n",
       "  success: False\n",
       "        x: array([ 0.97681806, -0.01838245, -0.56328989,  0.11791745])"
      ]
     },
     "execution_count": 64,
     "metadata": {},
     "output_type": "execute_result"
    }
   ],
   "source": [
    "# Ajustando un polinomio de grado 3\n",
    "def f3(beta,x):\n",
    "    return beta[0]+beta[1]*x+beta[2]*x**2+beta[3]*x**3\n",
    "beta0=np.random.rand(4)\n",
    "sol3=minimize(min_cuad,beta0,args=(x,y,f3))\n",
    "sol3"
   ]
  },
  {
   "cell_type": "code",
   "execution_count": 65,
   "metadata": {},
   "outputs": [
    {
     "data": {
      "image/png": "[encoded data removed]",
      "text/plain": [
       "<Figure size 432x288 with 1 Axes>"
      ]
     },
     "metadata": {
      "needs_background": "light"
     },
     "output_type": "display_data"
    }
   ],
   "source": [
    "plt.scatter(x,y,s=5)\n",
    "plt.plot(x,f3(sol3.x,x),'r')\n",
    "plt.grid()"
   ]
  },
  {
   "cell_type": "markdown",
   "metadata": {},
   "source": [
    "## 3. Regularización\n",
    "\n",
    "Vimos que la solución de mínimos cuadrados es:\n",
    "$$\\boldsymbol{\\beta}^{ls} = \\arg \\min_{\\boldsymbol{\\beta}} \\left|\\left|\\boldsymbol{y}-\\boldsymbol{X}\\boldsymbol{\\beta}\\right|\\right|^2.$$\n",
    "\n",
    "Sin embargo, si crecemos el orden del modelo hay overfitting y algunos coeficientes óptimos $\\boldsymbol{\\beta}$ crecen muchísimo. Que un coeficiente sea muy grande, significa que se le da mucha importancia a alguna característica (que quizá sea ruido... no sirve para predecir).\n",
    "\n",
    "La regularización consiste en penalizar la magnitud de los coeficientes $\\boldsymbol{\\beta}$ en el problema de optimización, para que no crezcan tanto. "
   ]
  },
  {
   "cell_type": "markdown",
   "metadata": {},
   "source": [
    "### 3.1. Ridge\n",
    "\n",
    "$$\\boldsymbol{\\beta}^{ridge} = \\arg \\min_{\\boldsymbol{\\beta}} \\left|\\left|\\boldsymbol{y}-\\boldsymbol{X}\\boldsymbol{\\beta}\\right|\\right|^2 + \\lambda\\left|\\left|\\boldsymbol{\\beta}\\right|\\right|^2$$"
   ]
  },
  {
   "cell_type": "code",
   "execution_count": null,
   "metadata": {},
   "outputs": [],
   "source": []
  },
  {
   "cell_type": "code",
   "execution_count": null,
   "metadata": {},
   "outputs": [],
   "source": []
  },
  {
   "cell_type": "markdown",
   "metadata": {},
   "source": [
    "### 3.2. Lasso\n",
    "\n",
    "$$\\boldsymbol{\\beta}^{lasso} = \\arg \\min_{\\boldsymbol{\\beta}} \\left|\\left|\\boldsymbol{y}-\\boldsymbol{X}\\boldsymbol{\\beta}\\right|\\right|^2 + \\lambda\\left|\\left|\\boldsymbol{\\beta}\\right|\\right|_1$$\n",
    "\n",
    "La norma 1 no es más que la suma de los valores absolutos de las componentes $\\left|\\left|\\boldsymbol{\\beta}\\right|\\right|_1=\\sum_{j=0}^m\\left|\\beta_j\\right|$."
   ]
  },
  {
   "cell_type": "code",
   "execution_count": null,
   "metadata": {},
   "outputs": [],
   "source": []
  }
 ],
 "metadata": {
  "kernelspec": {
   "display_name": "Python 3",
   "language": "python",
   "name": "python3"
  },
  "language_info": {
   "codemirror_mode": {
    "name": "ipython",
    "version": 3
   },
   "file_extension": ".py",
   "mimetype": "text/x-python",
   "name": "python",
   "nbconvert_exporter": "python",
   "pygments_lexer": "ipython3",
   "version": "3.7.3"
  }
 },
 "nbformat": 4,
 "nbformat_minor": 2
}
